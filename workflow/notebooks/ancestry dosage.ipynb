{
 "cells": [
  {
   "cell_type": "code",
   "execution_count": 1,
   "id": "a939d790",
   "metadata": {},
   "outputs": [],
   "source": [
    "import tskit\n",
    "import tszip\n",
    "import numpy as np\n",
    "import pandas as pd\n",
    "import stdpopsim\n",
    "from numpy.random import default_rng\n",
    "import msprime\n",
    "import pyreadr\n",
    "import os\n",
    "import sys"
   ]
  },
  {
   "cell_type": "code",
   "execution_count": 2,
   "id": "89300b00",
   "metadata": {},
   "outputs": [],
   "source": [
    "import seaborn as sns\n",
    "import matplotlib.pyplot as plt\n",
    "from sklearn.metrics import r2_score\n",
    "from scipy.stats import pearsonr"
   ]
  },
  {
   "cell_type": "code",
   "execution_count": 3,
   "id": "0714cc0c",
   "metadata": {},
   "outputs": [],
   "source": [
    "BCFTOOLS = \"/home/kele/programs/bcftools/bcftools-1.11/bcftools\""
   ]
  },
  {
   "cell_type": "code",
   "execution_count": 4,
   "id": "12f78f8c",
   "metadata": {},
   "outputs": [
    {
     "name": "stdout",
     "output_type": "stream",
     "text": [
      "/home/kele/Documents/lai/lai-sim/workflow/notebooks\r\n"
     ]
    }
   ],
   "source": [
    "!pwd"
   ]
  },
  {
   "cell_type": "code",
   "execution_count": 5,
   "id": "bad12f5d",
   "metadata": {},
   "outputs": [],
   "source": [
    "import_dir = '/home/kele/Documents/lai/lai-sim/workflow/scripts/common'\n",
    "sys.path.append(import_dir)\n",
    "from utils import *"
   ]
  },
  {
   "cell_type": "code",
   "execution_count": 6,
   "id": "d0433c12",
   "metadata": {},
   "outputs": [
    {
     "data": {
      "text/plain": [
       "(48784, 80)"
      ]
     },
     "execution_count": 6,
     "metadata": {},
     "output_type": "execute_result"
    }
   ],
   "source": [
    "n_anc = 2\n",
    "true_path = '/home/kele/Documents/lai/lai-sim/results/simple2pop/twopop_17/p2_arraylike/p2_array_10a100_100/true_local_ancestry.site_matrix.npz'\n",
    "\n",
    "true_anc_dosage = get_true_anc_dosage(load_true_la(true_path), n_anc=n_anc)\n",
    "true_anc_dosage.shape"
   ]
  },
  {
   "cell_type": "code",
   "execution_count": 7,
   "id": "415fab8a",
   "metadata": {},
   "outputs": [
    {
     "data": {
      "text/plain": [
       "(40, 2)"
      ]
     },
     "execution_count": 7,
     "metadata": {},
     "output_type": "execute_result"
    }
   ],
   "source": [
    "Q_true = get_Q(true_anc_dosage, n_anc=n_anc)\n",
    "Q_true.shape"
   ]
  },
  {
   "cell_type": "code",
   "execution_count": 8,
   "id": "e7ffd207",
   "metadata": {},
   "outputs": [
    {
     "data": {
      "text/plain": [
       "(10000, 30)"
      ]
     },
     "execution_count": 8,
     "metadata": {},
     "output_type": "execute_result"
    }
   ],
   "source": [
    "n_anc = 3\n",
    "\n",
    "true_path = '/home/kele/Documents/lai/lai-sim/results/AmericanAdmixture_4B11/S99/A33/AFT99/true_local_ancestry.site_matrix.npz'\n",
    "\n",
    "true_anc_dosage = get_true_anc_dosage(load_true_la(true_path), n_anc=n_anc)\n",
    "true_anc_dosage.shape"
   ]
  },
  {
   "cell_type": "code",
   "execution_count": 9,
   "id": "42cf66c4",
   "metadata": {},
   "outputs": [
    {
     "data": {
      "text/plain": [
       "(10, 3)"
      ]
     },
     "execution_count": 9,
     "metadata": {},
     "output_type": "execute_result"
    }
   ],
   "source": [
    "Q_true = get_Q(true_anc_dosage, n_anc=n_anc)\n",
    "Q_true.shape"
   ]
  },
  {
   "cell_type": "code",
   "execution_count": null,
   "id": "1e6bf532",
   "metadata": {},
   "outputs": [],
   "source": []
  },
  {
   "cell_type": "code",
   "execution_count": null,
   "id": "3e2e7605",
   "metadata": {},
   "outputs": [],
   "source": []
  },
  {
   "cell_type": "code",
   "execution_count": null,
   "id": "7dc21dbc",
   "metadata": {},
   "outputs": [],
   "source": []
  },
  {
   "cell_type": "markdown",
   "id": "67532b7a",
   "metadata": {},
   "source": [
    "## 3 population paths"
   ]
  },
  {
   "cell_type": "code",
   "execution_count": null,
   "id": "c6a9f381",
   "metadata": {},
   "outputs": [],
   "source": [
    "n_anc=4\n",
    "base_path = \"/home/kele/Documents/lai/lai-sim/results/AmericanAdmixture_4B11/AA_42/short_run/SUMMARY\"\n",
    "true_path = \"/home/kele/Documents/lai/lai-sim/results/AmericanAdmixture_4B11/AA_42/short_run/true_local_ancestry.site_matrix.npz\"\n",
    "rf_fb_path = '/home/kele/Documents/lai/lai-sim/results/AmericanAdmixture_4B11/AA_42/short_run/RFMix2/rfmix2.fb.tsv'\n",
    "mosaic_path = \"/home/kele/Documents/lai/lai-sim/results/AmericanAdmixture_4B11/AA_42/short_run/MOSAIC/la_probabilites.RData\"\n",
    "bmixpath = '/home/kele/Documents/lai/lai-sim/results/AmericanAdmixture_4B11/AA_42/short_run/bmix/bmix.anc.vcf.gz'"
   ]
  },
  {
   "cell_type": "markdown",
   "id": "fe7e7ec4",
   "metadata": {},
   "source": [
    "## 4 population paths"
   ]
  },
  {
   "cell_type": "code",
   "execution_count": null,
   "id": "e8334a92",
   "metadata": {},
   "outputs": [],
   "source": [
    "n_anc=4\n",
    "base_path = \"/home/kele/Documents/lai/lai-sim/results/OutOfAfrica_4J17/4pop_79/4pop_test/SUMMARY\"\n",
    "true_path = \"/home/kele/Documents/lai/lai-sim/results/OutOfAfrica_4J17/4pop_79/4pop_test/true_local_ancestry.site_matrix.npz\"\n",
    "rf_fb_path =  \"/home/kele/Documents/lai/lai-sim/results/OutOfAfrica_4J17/4pop_79/4pop_test/RFMix2/rfmix2.fb.tsv\"\n",
    "mosaic_path = '/home/kele/Documents/lai/lai-sim/results/OutOfAfrica_4J17/4pop_79/4pop_test/MOSAIC/la_probs.RData'\n",
    "bmixpath = '/home/kele/Documents/lai/lai-sim/results/OutOfAfrica_4J17/4pop_79/4pop_test/bmix/bmix.anc.vcf.gz'"
   ]
  },
  {
   "cell_type": "markdown",
   "id": "34160bdf",
   "metadata": {},
   "source": [
    "# TODO\n",
    "    - move to Snakemake\n",
    "    - write out the diploid ancestry dosage matrices\n",
    "    - write out the accuracy for each in a file"
   ]
  },
  {
   "cell_type": "code",
   "execution_count": null,
   "id": "88c29522",
   "metadata": {},
   "outputs": [],
   "source": [
    "def get_ancestry_dosage(arr, n_anc):\n",
    "    anc_dosage = np.zeros((arr.shape[0], int(arr.shape[1]/2)), dtype=np.half)\n",
    "    if n_anc==3:\n",
    "        assert (n_anc==3)\n",
    "        a0 = arr[:, 0::3] # should be views\n",
    "        a1 = arr[:, 1::3]\n",
    "        a2 = arr[:, 2::3]\n",
    "        anc_dosage[:, 0::3] = a0[:, ::2] + a0[:, 1::2]\n",
    "        anc_dosage[:, 1::3] = a1[:, ::2] + a1[:, 1::2]\n",
    "        anc_dosage[:, 2::3] = a2[:, ::2] + a2[:, 1::2]\n",
    "    elif n_anc==4:\n",
    "        assert (n_anc==4)\n",
    "        a0 = arr[:, 0::4] # should be views\n",
    "        a1 = arr[:, 1::4]\n",
    "        a2 = arr[:, 2::4]\n",
    "        a3 = arr[:, 3::4]\n",
    "        anc_dosage[:, 0::4] = a0[:, ::2] + a0[:, 1::2]\n",
    "        anc_dosage[:, 1::4] = a1[:, ::2] + a1[:, 1::2]\n",
    "        anc_dosage[:, 2::4] = a2[:, ::2] + a2[:, 1::2]\n",
    "        anc_dosage[:, 3::4] = a3[:, ::2] + a3[:, 1::2]   \n",
    "    return anc_dosage"
   ]
  },
  {
   "cell_type": "code",
   "execution_count": null,
   "id": "9251b513",
   "metadata": {},
   "outputs": [],
   "source": [
    "def r2_ancestry_dosage(true_dosage, pred_dosage, n_anc):\n",
    "    per_anc = []\n",
    "    for i in range(n_anc):\n",
    "        per_anc.append(\n",
    "            r2_score(\n",
    "                y_true=true_dosage[:,i::n_anc].ravel(),\n",
    "                y_pred=pred_dosage[:,i::n_anc].ravel()\n",
    "            )\n",
    "        )\n",
    "    per_ind = []\n",
    "    for i in range(int(true_dosage.shape[1]/n_anc)):\n",
    "        per_ind.append(\n",
    "            r2_score(\n",
    "                y_true=true_dosage[:, i*n_anc:i*n_anc+n_anc].ravel(),\n",
    "                y_pred=pred_dosage[:, i*n_anc:i*n_anc+n_anc].ravel()\n",
    "            )\n",
    "        )\n",
    "    \n",
    "    return(per_anc, per_ind)"
   ]
  },
  {
   "cell_type": "markdown",
   "id": "1192ad08",
   "metadata": {},
   "source": [
    "# True ancestry"
   ]
  },
  {
   "cell_type": "code",
   "execution_count": null,
   "id": "e62c94a5",
   "metadata": {},
   "outputs": [],
   "source": [
    "def load_true_la(path):\n",
    "    return np.load(path)['arr']\n",
    "\n",
    "def get_true_anc_dosage(true_la, n_anc):\n",
    "    hap1 = np.zeros((true_la.shape[0], int(true_la.shape[1]/2*n_anc)), dtype = 'int8')\n",
    "    hap2 = np.zeros((true_la.shape[0], int(true_la.shape[1]/2*n_anc)), dtype = 'int8')\n",
    "    aa = np.arange(true_la[:, ::2].shape[1])*n_anc+true_la[:, ::2]\n",
    "    bb = np.arange(true_la[:, 1::2].shape[1])*n_anc+true_la[:, 1::2]\n",
    "    np.put_along_axis(hap1, aa, 1, axis=1)\n",
    "    np.put_along_axis(hap2, bb, 1, axis=1)\n",
    "    return hap1+hap2"
   ]
  },
  {
   "cell_type": "markdown",
   "id": "71cf7606",
   "metadata": {},
   "source": [
    "## Load in the probablistic output of each method\n",
    "Data frame with one row per site, \n",
    "\n",
    "Only every 5 sites represented in this file - not sure if it will always be intervals of 5 sites\n",
    "\n",
    "After the index columns - each (individual) X (haplotype) X (population) has an entry. "
   ]
  },
  {
   "cell_type": "code",
   "execution_count": null,
   "id": "f08a9948",
   "metadata": {},
   "outputs": [],
   "source": [
    "def load_rfmix_fb(path):\n",
    "    rfmix_res = pd.read_csv(path, sep='\\t', comment='#')\n",
    "    # expand out to each site\n",
    "    rfmix_res = np.repeat(rfmix_res.iloc[:, 4:].values, [5], axis = 0)\n",
    "    return rfmix_res"
   ]
  },
  {
   "cell_type": "code",
   "execution_count": null,
   "id": "106c2403",
   "metadata": {},
   "outputs": [],
   "source": [
    "def load_bmix(path):\n",
    "    csv_path = path.replace('.vcf.gz', '.csv')\n",
    "    !{BCFTOOLS} query -f '%CHROM, %POS, [%ANP1, %ANP2,]\\n' {path} > {csv_path}\n",
    "    bmix = pd.read_csv(csv_path, header=None)\n",
    "    bmix = bmix.dropna(axis=1)\n",
    "    return(bmix.iloc[:,2:].values)"
   ]
  },
  {
   "cell_type": "code",
   "execution_count": null,
   "id": "12d9241f",
   "metadata": {},
   "outputs": [],
   "source": [
    "def load_mosaic(path):\n",
    "    mr = pyreadr.read_r(path)['arr'].astype(np.half)\n",
    "    mr = mr.to_numpy().T.reshape((mr.shape[2],-1), order='C')\n",
    "    return mr"
   ]
  },
  {
   "cell_type": "code",
   "execution_count": null,
   "id": "8d769940",
   "metadata": {},
   "outputs": [],
   "source": []
  },
  {
   "cell_type": "code",
   "execution_count": null,
   "id": "ee1423ce",
   "metadata": {},
   "outputs": [],
   "source": [
    "true_anc_dosage = get_true_anc_dosage(load_true_la(true_path), n_anc=n_anc)"
   ]
  },
  {
   "cell_type": "code",
   "execution_count": null,
   "id": "bad63cf6",
   "metadata": {},
   "outputs": [],
   "source": [
    "rfmix_anc_dosage = get_ancestry_dosage(load_rfmix_fb(rf_fb_path), n_anc=n_anc)\n",
    "rfmix_anc_r2, rfmix_ind_r2 = r2_ancestry_dosage(\n",
    "    true_dosage=true_anc_dosage, \n",
    "    pred_dosage=rfmix_anc_dosage,\n",
    "    n_anc=n_anc\n",
    ")\n",
    "np.mean(rfmix_anc_r2), rfmix_anc_r2"
   ]
  },
  {
   "cell_type": "code",
   "execution_count": null,
   "id": "294424e6",
   "metadata": {},
   "outputs": [],
   "source": [
    "mosaic_anc_dosage = get_ancestry_dosage(load_mosaic(mosaic_path), n_anc=n_anc)\n",
    "mosaic_anc_r2, mosaic_ind_r2 = r2_ancestry_dosage(\n",
    "    true_dosage=true_anc_dosage, \n",
    "    pred_dosage=mosaic_anc_dosage,\n",
    "    n_anc=n_anc\n",
    ")\n",
    "np.mean(mosaic_anc_r2), mosaic_anc_r2"
   ]
  },
  {
   "cell_type": "code",
   "execution_count": null,
   "id": "04b556a9",
   "metadata": {},
   "outputs": [],
   "source": [
    "bmix_anc_dosage = get_ancestry_dosage(load_bmix(bmixpath), n_anc)\n",
    "bmix_anc_r2, bmix_ind_r2 = r2_ancestry_dosage(\n",
    "    true_dosage=true_anc_dosage, \n",
    "    pred_dosage=bmix_anc_dosage,\n",
    "    n_anc=n_anc\n",
    ")\n",
    "np.mean(bmix_anc_r2), bmix_anc_r2"
   ]
  },
  {
   "cell_type": "code",
   "execution_count": null,
   "id": "3c6004ec",
   "metadata": {},
   "outputs": [],
   "source": [
    "def plot_ancestry_dosage(pred_dosage, start_index, n_anc, reference_dosage=None):\n",
    "    \"\"\"    \"\"\"\n",
    "    colors = ['blue', 'orange', 'green', 'purple']\n",
    "    \n",
    "    fig, ax = plt.subplots(figsize = (12, n_anc*1.5), nrows=n_anc, sharex=True, sharey=True)\n",
    "    \n",
    "    \n",
    "    f = []\n",
    "    for i in range(n_anc):\n",
    "        l, = ax[i].plot(pred_dosage[:, start_index+i], c=colors[i])\n",
    "        f.append(l)\n",
    "        \n",
    "    plt.legend(f, [f'pop{p}' for p in range(n_anc)])\n",
    "    \n",
    "    if reference_dosage is not None:\n",
    "        l, = ax[i].plot(reference_dosage[:, start_index+i], c=colors[i], alpha=.3, ls='--')\n",
    "\n",
    "    fig.tight_layout()\n",
    "    sns.despine(bottom=True)\n",
    "    ax[0].set_title('Ancestry dosage')\n",
    "    ax[-1].set_xlabel('Site number ')"
   ]
  },
  {
   "cell_type": "code",
   "execution_count": null,
   "id": "1515741e",
   "metadata": {},
   "outputs": [],
   "source": [
    "plot_ancestry_dosage(true_anc_dosage, start_index=0, n_anc=4, reference_dosage=None)"
   ]
  },
  {
   "cell_type": "code",
   "execution_count": null,
   "id": "856ea924",
   "metadata": {},
   "outputs": [],
   "source": [
    "plot_ancestry_dosage(bmix_anc_dosage, start_index=0, n_anc=4, reference_dosage=true_anc_dosage)"
   ]
  },
  {
   "cell_type": "code",
   "execution_count": null,
   "id": "e451494d",
   "metadata": {},
   "outputs": [],
   "source": [
    "plot_ancestry_dosage(bmix_anc_dosage, start_index=4, n_anc=4, reference_dosage=true_anc_dosage)"
   ]
  },
  {
   "cell_type": "code",
   "execution_count": null,
   "id": "10a50902",
   "metadata": {},
   "outputs": [],
   "source": [
    "plot_ancestry_dosage(true_anc_dosage , start_index=4, n_anc=4, reference_dosage=bmix_anc_dosage)"
   ]
  },
  {
   "cell_type": "code",
   "execution_count": null,
   "id": "2f5fa233",
   "metadata": {},
   "outputs": [],
   "source": [
    "sqdif = ((true_anc_dosage - bmix_anc_dosage).astype('float')**2).sum().sum()"
   ]
  },
  {
   "cell_type": "code",
   "execution_count": null,
   "id": "ccc48805",
   "metadata": {},
   "outputs": [],
   "source": [
    "sqdif/ (true_anc_dosage.shape[0]*true_anc_dosage.shape[1])"
   ]
  },
  {
   "cell_type": "code",
   "execution_count": null,
   "id": "8da4beb1",
   "metadata": {},
   "outputs": [],
   "source": [
    "np.sqrt(sqdif/(true_anc_dosage.shape[0]*true_anc_dosage.shape[1]))"
   ]
  },
  {
   "cell_type": "code",
   "execution_count": null,
   "id": "90674a30",
   "metadata": {},
   "outputs": [],
   "source": [
    "sns.histplot(bmix_ind_r2)\n",
    "plt.show()\n",
    "plt.scatter(np.arange(len(bmix_ind_r2)), sorted(bmix_ind_r2))\n",
    "plt.show()\n",
    "np.mean(bmix_anc_r2), np.mean(bmix_ind_r2)"
   ]
  },
  {
   "cell_type": "code",
   "execution_count": null,
   "id": "e0a85f8d",
   "metadata": {},
   "outputs": [],
   "source": [
    "sns.histplot(rfmix_ind_r2)\n",
    "plt.show()\n",
    "plt.scatter(np.arange(len(rfmix_ind_r2)), sorted(rfmix_ind_r2))\n",
    "plt.show()\n",
    "np.mean(rfmix_anc_r2), np.mean(rfmix_ind_r2)"
   ]
  },
  {
   "cell_type": "code",
   "execution_count": null,
   "id": "6fe1e21d",
   "metadata": {},
   "outputs": [],
   "source": []
  },
  {
   "cell_type": "code",
   "execution_count": null,
   "id": "8e4ee16f",
   "metadata": {},
   "outputs": [],
   "source": []
  },
  {
   "cell_type": "code",
   "execution_count": null,
   "id": "0252f057",
   "metadata": {},
   "outputs": [],
   "source": [
    "## Write R2 tables\n",
    "with open(os.path.join(base_path, 'R2_score.ancestry.tsv'), 'w') as OUTFILE:\n",
    "    OUTFILE.write('\\t'.join(['method'] + [f'anc_{x}' for x in range(nanc)]) + '\\n')\n",
    "    OUTFILE.write('\\t'.join(['rfmix2'] + [str(x) for x in rfmix_anc_r2])  + '\\n')\n",
    "    OUTFILE.write('\\t'.join(['mosaic'] + [str(x) for x in mosaic_anc_r2])  + '\\n')\n",
    "    OUTFILE.write('\\t'.join(['bmix'] + [str(x) for x in bmix_anc_r2])  + '\\n')\n",
    "    \n",
    "with open(os.path.join(base_path, 'R2_score.individuals.tsv'), 'w') as OUTFILE:\n",
    "    OUTFILE.write('\\t'.join(['method'] + [f'ind_{x}' for x in range(len(bmix_ind_r2))]) + '\\n')\n",
    "    OUTFILE.write('\\t'.join(['rfmix2'] + [str(x) for x in rfmix_ind_r2])  + '\\n')\n",
    "    OUTFILE.write('\\t'.join(['mosaic'] + [str(x) for x in mosaic_ind_r2])  + '\\n')\n",
    "    OUTFILE.write('\\t'.join(['bmix'] + [str(x) for x in bmix_ind_r2])  + '\\n')"
   ]
  },
  {
   "cell_type": "code",
   "execution_count": null,
   "id": "fd86f6a6",
   "metadata": {},
   "outputs": [],
   "source": []
  },
  {
   "cell_type": "code",
   "execution_count": null,
   "id": "3d61eedd",
   "metadata": {},
   "outputs": [],
   "source": [
    "assert False"
   ]
  },
  {
   "cell_type": "code",
   "execution_count": null,
   "id": "6e1f38f2",
   "metadata": {},
   "outputs": [],
   "source": []
  },
  {
   "cell_type": "code",
   "execution_count": null,
   "id": "c3fd7cc1",
   "metadata": {},
   "outputs": [],
   "source": [
    "plot_ancestry_dosage(true_anc_dosage, start_index=3, reference_dosage=None)"
   ]
  },
  {
   "cell_type": "code",
   "execution_count": null,
   "id": "a382aa9e",
   "metadata": {},
   "outputs": [],
   "source": [
    "plot_ancestry_dosage(rfmix_anc_dosage, start_index=3, reference_dosage=true_anc_dosage)"
   ]
  },
  {
   "cell_type": "code",
   "execution_count": null,
   "id": "1cf9e2b7",
   "metadata": {},
   "outputs": [],
   "source": [
    "rfmix_anc_r2, rfmix_ind_r2 = r2_ancestry_dosage(\n",
    "    true_dosage=true_anc_dosage, \n",
    "    pred_dosage=rfmix_anc_dosage,\n",
    "    nanc=3\n",
    ")\n",
    "sns.histplot(rfmix_ind_r2)\n",
    "plt.show()\n",
    "plt.scatter(np.arange(len(rfmix_ind_r2)), sorted(rfmix_ind_r2))\n",
    "plt.show()\n",
    "np.mean(rfmix_anc_r2), np.mean(rfmix_ind_r2)"
   ]
  },
  {
   "cell_type": "code",
   "execution_count": null,
   "id": "6070d670",
   "metadata": {},
   "outputs": [],
   "source": []
  },
  {
   "cell_type": "markdown",
   "id": "1e994832",
   "metadata": {},
   "source": [
    "# Mosaic\n",
    "Data frame with one row per site. \n",
    "after the index columns - each (individual) X (haplotype) X (ancestry) has an entry. "
   ]
  },
  {
   "cell_type": "code",
   "execution_count": null,
   "id": "227accdb",
   "metadata": {},
   "outputs": [],
   "source": [
    "plot_ancestry_dosage(mosaic_anc_dosage, start_index=3, reference_dosage=true_anc_dosage)"
   ]
  },
  {
   "cell_type": "code",
   "execution_count": null,
   "id": "a65f010f",
   "metadata": {},
   "outputs": [],
   "source": [
    "mosaic_anc_r2, mosaic_ind_r2 = r2_ancestry_dosage(\n",
    "    true_dosage=true_anc_dosage, \n",
    "    pred_dosage=mosaic_anc_dosage,\n",
    "    nanc=3\n",
    ")\n",
    "sns.histplot(mosaic_ind_r2)\n",
    "plt.show()\n",
    "plt.scatter(np.arange(len(mosaic_ind_r2)), sorted(mosaic_ind_r2))\n",
    "np.mean(mosaic_anc_r2), np.mean(mosaic_ind_r2)"
   ]
  },
  {
   "cell_type": "code",
   "execution_count": null,
   "id": "214014ee",
   "metadata": {},
   "outputs": [],
   "source": [
    "plot_ancestry_dosage(mosaic_anc_dosage, start_index=62*3, reference_dosage=true_anc_dosage)"
   ]
  },
  {
   "cell_type": "code",
   "execution_count": null,
   "id": "a071e556",
   "metadata": {},
   "outputs": [],
   "source": []
  },
  {
   "cell_type": "markdown",
   "id": "521dccc5",
   "metadata": {},
   "source": [
    "# bmix"
   ]
  },
  {
   "cell_type": "code",
   "execution_count": null,
   "id": "4c1c38a8",
   "metadata": {},
   "outputs": [],
   "source": [
    "plot_ancestry_dosage(bmix_anc_dosage, start_index=62*3, reference_dosage=true_anc_dosage)"
   ]
  },
  {
   "cell_type": "code",
   "execution_count": null,
   "id": "48ef5ee4",
   "metadata": {},
   "outputs": [],
   "source": []
  },
  {
   "cell_type": "code",
   "execution_count": null,
   "id": "0926e2cc",
   "metadata": {},
   "outputs": [],
   "source": []
  },
  {
   "cell_type": "code",
   "execution_count": null,
   "id": "c4376fcb",
   "metadata": {},
   "outputs": [],
   "source": [
    "!{BCFTOOLS} query -f '%CHROM, %POS, [%ANP1, %ANP2,]\\n' {bmixpath} > {bmixpath.replace('.vcf.gz', '.csv')}"
   ]
  },
  {
   "cell_type": "code",
   "execution_count": null,
   "id": "607368b4",
   "metadata": {},
   "outputs": [],
   "source": [
    "bmix = pd.read_csv(bmixpath.replace('.vcf.gz', '.csv'), header = None)\n",
    "bmix = bmix.dropna(axis=1)\n",
    "bmix = bmix.iloc[:,2:]\n",
    "bmix_anc_dosage = get_ancestry_dosage(bmix.values)"
   ]
  },
  {
   "cell_type": "code",
   "execution_count": null,
   "id": "92e1d17e",
   "metadata": {},
   "outputs": [],
   "source": [
    "bmix_anc_r2, bmix_ind_r2 = r2_ancestry_dosage(\n",
    "    true_dosage=true_anc_dosage, \n",
    "    pred_dosage=bmix_anc_dosage,\n",
    "    nanc=3\n",
    ")\n",
    "np.mean(bmix_anc_r2), np.mean(bmix_ind_r2)"
   ]
  },
  {
   "cell_type": "code",
   "execution_count": null,
   "id": "f5fdf95f",
   "metadata": {},
   "outputs": [],
   "source": [
    "sns.histplot(bmix_ind_r2)\n",
    "plt.show()\n",
    "plt.scatter(np.arange(len(bmix_ind_r2)), sorted(bmix_ind_r2))\n",
    "np.where(bmix_ind_r2 == np.min(bmix_ind_r2))\n",
    "plt.show()"
   ]
  },
  {
   "cell_type": "code",
   "execution_count": null,
   "id": "068a54f9",
   "metadata": {},
   "outputs": [],
   "source": [
    "plot_ancestry_dosage(bmix_anc_dosage, start_index=62*3, reference_dosage=true_anc_dosage)"
   ]
  },
  {
   "cell_type": "markdown",
   "id": "765db279",
   "metadata": {},
   "source": [
    "## There is not a huge correlation in the indiviudal level accuracy of the various methods here"
   ]
  },
  {
   "cell_type": "code",
   "execution_count": null,
   "id": "d37b532f",
   "metadata": {},
   "outputs": [],
   "source": [
    "r2_df = pd.DataFrame(data = {'bmix':bmix_ind_r2, 'rfmix':rfmix_ind_r2, 'mosaic':mosaic_ind_r2})"
   ]
  },
  {
   "cell_type": "code",
   "execution_count": null,
   "id": "72e48fd4",
   "metadata": {},
   "outputs": [],
   "source": [
    "pearsonr(r2_df['bmix'], r2_df['mosaic'])[0]**2, pearsonr(r2_df['bmix'], r2_df['rfmix'])[0]**2, pearsonr(r2_df['mosaic'], r2_df['rfmix'])[0]**2"
   ]
  },
  {
   "cell_type": "code",
   "execution_count": null,
   "id": "bfbf4e74",
   "metadata": {},
   "outputs": [],
   "source": [
    "sns.pairplot(r2_df,\n",
    "             plot_kws = {'alpha': 0.6, 's': 20, 'edgecolor': 'k'})"
   ]
  },
  {
   "cell_type": "code",
   "execution_count": null,
   "id": "f5ca12b7",
   "metadata": {},
   "outputs": [],
   "source": [
    "sns.jointplot(data = r2_df, x='bmix', y='rfmix', color=\"#4CB391\", kind=\"reg\")"
   ]
  },
  {
   "cell_type": "code",
   "execution_count": null,
   "id": "ecc5d095",
   "metadata": {},
   "outputs": [],
   "source": [
    "def plot_ancestry_dosage(pred_dosage, start_index, n_anc, reference_dosage=None):\n",
    "    \"\"\"\n",
    "    only works for 3 ancestries\n",
    "    \"\"\"\n",
    "    fig, ax = plt.subplots(figsize = (12, n_anc*1.5), nrows=n_anc, sharex=True, sharey=True)\n",
    "    \n",
    "    l0, = ax[0].plot(pred_dosage[:, start_index+0], c='b')\n",
    "    l1, = ax[1].plot(pred_dosage[:, start_index+1], c='orange')\n",
    "    l2, = ax[2].plot(pred_dosage[:, start_index+2], c='green')\n",
    "    \n",
    "    plt.legend([l0, l1, l2], ['pop0', 'pop1', 'pop2'])\n",
    "\n",
    "    \n",
    "    if reference_dosage is not None:\n",
    "        l0, = ax[0].plot(reference_dosage[:, start_index+0], c='b', alpha=.5, ls='--')\n",
    "        l1, = ax[1].plot(reference_dosage[:, start_index+1], c='orange', alpha=.5, ls='--')\n",
    "        l2, = ax[2].plot(reference_dosage[:, start_index+2], c='green', alpha=.5, ls='--')\n",
    "\n",
    "    fig.tight_layout()\n",
    "    sns.despine(bottom=True)\n",
    "    ax[0].set_title('Ancestry dosage')\n",
    "    ax[-1].set_xlabel('Site number ')"
   ]
  }
 ],
 "metadata": {
  "kernelspec": {
   "display_name": "Python 3 (ipykernel)",
   "language": "python",
   "name": "python3"
  },
  "language_info": {
   "codemirror_mode": {
    "name": "ipython",
    "version": 3
   },
   "file_extension": ".py",
   "mimetype": "text/x-python",
   "name": "python",
   "nbconvert_exporter": "python",
   "pygments_lexer": "ipython3",
   "version": "3.9.9"
  }
 },
 "nbformat": 4,
 "nbformat_minor": 5
}
