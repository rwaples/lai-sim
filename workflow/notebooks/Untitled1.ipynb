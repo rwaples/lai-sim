{
 "cells": [
  {
   "cell_type": "code",
   "execution_count": 9,
   "id": "7e034fac",
   "metadata": {},
   "outputs": [
    {
     "ename": "AttributeError",
     "evalue": "'str' object has no attribute 'shape'",
     "output_type": "error",
     "traceback": [
      "\u001b[0;31m---------------------------------------------------------------------------\u001b[0m",
      "\u001b[0;31mAttributeError\u001b[0m                            Traceback (most recent call last)",
      "Input \u001b[0;32mIn [9]\u001b[0m, in \u001b[0;36m<module>\u001b[0;34m\u001b[0m\n\u001b[1;32m      2\u001b[0m \u001b[38;5;28;01mimport\u001b[39;00m \u001b[38;5;21;01mtszip\u001b[39;00m\n\u001b[1;32m      4\u001b[0m ts \u001b[38;5;241m=\u001b[39m msprime\u001b[38;5;241m.\u001b[39msimulate(\u001b[38;5;241m10\u001b[39m, random_seed\u001b[38;5;241m=\u001b[39m\u001b[38;5;241m1\u001b[39m)\n\u001b[0;32m----> 5\u001b[0m \u001b[43mtszip\u001b[49m\u001b[38;5;241;43m.\u001b[39;49m\u001b[43mcompress\u001b[49m\u001b[43m(\u001b[49m\u001b[43mts\u001b[49m\u001b[43m,\u001b[49m\u001b[43m \u001b[49m\u001b[38;5;124;43m\"\u001b[39;49m\u001b[38;5;124;43msimulation.trees.tsz\u001b[39;49m\u001b[38;5;124;43m\"\u001b[39;49m\u001b[43m)\u001b[49m\n",
      "File \u001b[0;32m~/Documents/lai/lai-sim/env/lib/python3.10/site-packages/tszip/compression.py:97\u001b[0m, in \u001b[0;36mcompress\u001b[0;34m(ts, path, variants_only)\u001b[0m\n\u001b[1;32m     95\u001b[0m     \u001b[38;5;28;01mwith\u001b[39;00m zarr\u001b[38;5;241m.\u001b[39mZipStore(filename, mode\u001b[38;5;241m=\u001b[39m\u001b[38;5;124m\"\u001b[39m\u001b[38;5;124mw\u001b[39m\u001b[38;5;124m\"\u001b[39m) \u001b[38;5;28;01mas\u001b[39;00m store:\n\u001b[1;32m     96\u001b[0m         root \u001b[38;5;241m=\u001b[39m zarr\u001b[38;5;241m.\u001b[39mgroup(store\u001b[38;5;241m=\u001b[39mstore)\n\u001b[0;32m---> 97\u001b[0m         \u001b[43mcompress_zarr\u001b[49m\u001b[43m(\u001b[49m\u001b[43mts\u001b[49m\u001b[43m,\u001b[49m\u001b[43m \u001b[49m\u001b[43mroot\u001b[49m\u001b[43m,\u001b[49m\u001b[43m \u001b[49m\u001b[43mvariants_only\u001b[49m\u001b[38;5;241;43m=\u001b[39;49m\u001b[43mvariants_only\u001b[49m\u001b[43m)\u001b[49m\n\u001b[1;32m     98\u001b[0m     os\u001b[38;5;241m.\u001b[39mreplace(filename, destination)\n\u001b[1;32m     99\u001b[0m logging\u001b[38;5;241m.\u001b[39minfo(\u001b[38;5;124mf\u001b[39m\u001b[38;5;124m\"\u001b[39m\u001b[38;5;124mWrote \u001b[39m\u001b[38;5;132;01m{\u001b[39;00mdestination\u001b[38;5;132;01m}\u001b[39;00m\u001b[38;5;124m\"\u001b[39m)\n",
      "File \u001b[0;32m~/Documents/lai/lai-sim/env/lib/python3.10/site-packages/tszip/compression.py:239\u001b[0m, in \u001b[0;36mcompress_zarr\u001b[0;34m(ts, root, variants_only)\u001b[0m\n\u001b[1;32m    233\u001b[0m compressor \u001b[38;5;241m=\u001b[39m numcodecs\u001b[38;5;241m.\u001b[39mBlosc(\n\u001b[1;32m    234\u001b[0m     cname\u001b[38;5;241m=\u001b[39m\u001b[38;5;124m\"\u001b[39m\u001b[38;5;124mzstd\u001b[39m\u001b[38;5;124m\"\u001b[39m, clevel\u001b[38;5;241m=\u001b[39m\u001b[38;5;241m9\u001b[39m, shuffle\u001b[38;5;241m=\u001b[39mnumcodecs\u001b[38;5;241m.\u001b[39mBlosc\u001b[38;5;241m.\u001b[39mSHUFFLE\n\u001b[1;32m    235\u001b[0m )\n\u001b[1;32m    236\u001b[0m \u001b[38;5;28;01mfor\u001b[39;00m name, data \u001b[38;5;129;01min\u001b[39;00m columns\u001b[38;5;241m.\u001b[39mitems():\n\u001b[1;32m    237\u001b[0m     \u001b[43mColumn\u001b[49m\u001b[43m(\u001b[49m\n\u001b[1;32m    238\u001b[0m \u001b[43m        \u001b[49m\u001b[43mname\u001b[49m\u001b[43m,\u001b[49m\u001b[43m \u001b[49m\u001b[43mdata\u001b[49m\u001b[43m,\u001b[49m\u001b[43m \u001b[49m\u001b[43mdelta_filter\u001b[49m\u001b[38;5;241;43m=\u001b[39;49m\u001b[38;5;124;43m\"\u001b[39;49m\u001b[38;5;124;43m_offset\u001b[39;49m\u001b[38;5;124;43m\"\u001b[39;49m\u001b[43m \u001b[49m\u001b[38;5;129;43;01min\u001b[39;49;00m\u001b[43m \u001b[49m\u001b[43mname\u001b[49m\u001b[43m \u001b[49m\u001b[38;5;129;43;01mor\u001b[39;49;00m\u001b[43m \u001b[49m\u001b[43mname\u001b[49m\u001b[43m \u001b[49m\u001b[38;5;129;43;01min\u001b[39;49;00m\u001b[43m \u001b[49m\u001b[43mdelta_filter_cols\u001b[49m\n\u001b[0;32m--> 239\u001b[0m \u001b[43m    \u001b[49m\u001b[43m)\u001b[49m\u001b[38;5;241;43m.\u001b[39;49m\u001b[43mcompress\u001b[49m\u001b[43m(\u001b[49m\u001b[43mroot\u001b[49m\u001b[43m,\u001b[49m\u001b[43m \u001b[49m\u001b[43mcompressor\u001b[49m\u001b[43m)\u001b[49m\n",
      "File \u001b[0;32m~/Documents/lai/lai-sim/env/lib/python3.10/site-packages/tszip/compression.py:127\u001b[0m, in \u001b[0;36mColumn.compress\u001b[0;34m(self, root, compressor)\u001b[0m\n\u001b[1;32m    126\u001b[0m \u001b[38;5;28;01mdef\u001b[39;00m \u001b[38;5;21mcompress\u001b[39m(\u001b[38;5;28mself\u001b[39m, root, compressor):\n\u001b[0;32m--> 127\u001b[0m     shape \u001b[38;5;241m=\u001b[39m \u001b[38;5;28;43mself\u001b[39;49m\u001b[38;5;241;43m.\u001b[39;49m\u001b[43marray\u001b[49m\u001b[38;5;241;43m.\u001b[39;49m\u001b[43mshape\u001b[49m\n\u001b[1;32m    128\u001b[0m     chunks \u001b[38;5;241m=\u001b[39m shape\n\u001b[1;32m    129\u001b[0m     \u001b[38;5;28;01mif\u001b[39;00m shape[\u001b[38;5;241m0\u001b[39m] \u001b[38;5;241m==\u001b[39m \u001b[38;5;241m0\u001b[39m:\n",
      "\u001b[0;31mAttributeError\u001b[0m: 'str' object has no attribute 'shape'"
     ]
    }
   ],
   "source": [
    "import msprime\n",
    "import tszip\n",
    "\n",
    "ts = msprime.simulate(10, random_seed=1)\n",
    "tszip.compress(ts, \"simulation.trees.tsz\")"
   ]
  },
  {
   "cell_type": "code",
   "execution_count": 11,
   "id": "e17fe76f",
   "metadata": {},
   "outputs": [
    {
     "data": {
      "text/plain": [
       "'1.1.0'"
      ]
     },
     "execution_count": 11,
     "metadata": {},
     "output_type": "execute_result"
    }
   ],
   "source": [
    "msprime.__version__"
   ]
  },
  {
   "cell_type": "code",
   "execution_count": 13,
   "id": "8de05e91",
   "metadata": {},
   "outputs": [
    {
     "data": {
      "text/plain": [
       "'0.2.0'"
      ]
     },
     "execution_count": 13,
     "metadata": {},
     "output_type": "execute_result"
    }
   ],
   "source": [
    "tszip.__version__"
   ]
  },
  {
   "cell_type": "code",
   "execution_count": 4,
   "id": "07c953c2",
   "metadata": {},
   "outputs": [],
   "source": [
    "import msprime\n",
    "import tszip"
   ]
  },
  {
   "cell_type": "code",
   "execution_count": 8,
   "id": "b65f28ef",
   "metadata": {},
   "outputs": [
    {
     "ename": "AttributeError",
     "evalue": "'str' object has no attribute 'shape'",
     "output_type": "error",
     "traceback": [
      "\u001b[0;31m---------------------------------------------------------------------------\u001b[0m",
      "\u001b[0;31mAttributeError\u001b[0m                            Traceback (most recent call last)",
      "Input \u001b[0;32mIn [8]\u001b[0m, in \u001b[0;36m<module>\u001b[0;34m\u001b[0m\n\u001b[1;32m      1\u001b[0m ts \u001b[38;5;241m=\u001b[39m msprime\u001b[38;5;241m.\u001b[39msimulate(\u001b[38;5;241m3\u001b[39m)\n\u001b[0;32m----> 2\u001b[0m \u001b[43mtszip\u001b[49m\u001b[38;5;241;43m.\u001b[39;49m\u001b[43mcompress\u001b[49m\u001b[43m(\u001b[49m\u001b[43mts\u001b[49m\u001b[43m,\u001b[49m\u001b[43m \u001b[49m\u001b[38;5;124;43m'\u001b[39;49m\u001b[38;5;124;43mtest.tsz\u001b[39;49m\u001b[38;5;124;43m'\u001b[39;49m\u001b[43m)\u001b[49m\n",
      "File \u001b[0;32m~/Documents/lai/lai-sim/env/lib/python3.10/site-packages/tszip/compression.py:97\u001b[0m, in \u001b[0;36mcompress\u001b[0;34m(ts, path, variants_only)\u001b[0m\n\u001b[1;32m     95\u001b[0m     \u001b[38;5;28;01mwith\u001b[39;00m zarr\u001b[38;5;241m.\u001b[39mZipStore(filename, mode\u001b[38;5;241m=\u001b[39m\u001b[38;5;124m\"\u001b[39m\u001b[38;5;124mw\u001b[39m\u001b[38;5;124m\"\u001b[39m) \u001b[38;5;28;01mas\u001b[39;00m store:\n\u001b[1;32m     96\u001b[0m         root \u001b[38;5;241m=\u001b[39m zarr\u001b[38;5;241m.\u001b[39mgroup(store\u001b[38;5;241m=\u001b[39mstore)\n\u001b[0;32m---> 97\u001b[0m         \u001b[43mcompress_zarr\u001b[49m\u001b[43m(\u001b[49m\u001b[43mts\u001b[49m\u001b[43m,\u001b[49m\u001b[43m \u001b[49m\u001b[43mroot\u001b[49m\u001b[43m,\u001b[49m\u001b[43m \u001b[49m\u001b[43mvariants_only\u001b[49m\u001b[38;5;241;43m=\u001b[39;49m\u001b[43mvariants_only\u001b[49m\u001b[43m)\u001b[49m\n\u001b[1;32m     98\u001b[0m     os\u001b[38;5;241m.\u001b[39mreplace(filename, destination)\n\u001b[1;32m     99\u001b[0m logging\u001b[38;5;241m.\u001b[39minfo(\u001b[38;5;124mf\u001b[39m\u001b[38;5;124m\"\u001b[39m\u001b[38;5;124mWrote \u001b[39m\u001b[38;5;132;01m{\u001b[39;00mdestination\u001b[38;5;132;01m}\u001b[39;00m\u001b[38;5;124m\"\u001b[39m)\n",
      "File \u001b[0;32m~/Documents/lai/lai-sim/env/lib/python3.10/site-packages/tszip/compression.py:239\u001b[0m, in \u001b[0;36mcompress_zarr\u001b[0;34m(ts, root, variants_only)\u001b[0m\n\u001b[1;32m    233\u001b[0m compressor \u001b[38;5;241m=\u001b[39m numcodecs\u001b[38;5;241m.\u001b[39mBlosc(\n\u001b[1;32m    234\u001b[0m     cname\u001b[38;5;241m=\u001b[39m\u001b[38;5;124m\"\u001b[39m\u001b[38;5;124mzstd\u001b[39m\u001b[38;5;124m\"\u001b[39m, clevel\u001b[38;5;241m=\u001b[39m\u001b[38;5;241m9\u001b[39m, shuffle\u001b[38;5;241m=\u001b[39mnumcodecs\u001b[38;5;241m.\u001b[39mBlosc\u001b[38;5;241m.\u001b[39mSHUFFLE\n\u001b[1;32m    235\u001b[0m )\n\u001b[1;32m    236\u001b[0m \u001b[38;5;28;01mfor\u001b[39;00m name, data \u001b[38;5;129;01min\u001b[39;00m columns\u001b[38;5;241m.\u001b[39mitems():\n\u001b[1;32m    237\u001b[0m     \u001b[43mColumn\u001b[49m\u001b[43m(\u001b[49m\n\u001b[1;32m    238\u001b[0m \u001b[43m        \u001b[49m\u001b[43mname\u001b[49m\u001b[43m,\u001b[49m\u001b[43m \u001b[49m\u001b[43mdata\u001b[49m\u001b[43m,\u001b[49m\u001b[43m \u001b[49m\u001b[43mdelta_filter\u001b[49m\u001b[38;5;241;43m=\u001b[39;49m\u001b[38;5;124;43m\"\u001b[39;49m\u001b[38;5;124;43m_offset\u001b[39;49m\u001b[38;5;124;43m\"\u001b[39;49m\u001b[43m \u001b[49m\u001b[38;5;129;43;01min\u001b[39;49;00m\u001b[43m \u001b[49m\u001b[43mname\u001b[49m\u001b[43m \u001b[49m\u001b[38;5;129;43;01mor\u001b[39;49;00m\u001b[43m \u001b[49m\u001b[43mname\u001b[49m\u001b[43m \u001b[49m\u001b[38;5;129;43;01min\u001b[39;49;00m\u001b[43m \u001b[49m\u001b[43mdelta_filter_cols\u001b[49m\n\u001b[0;32m--> 239\u001b[0m \u001b[43m    \u001b[49m\u001b[43m)\u001b[49m\u001b[38;5;241;43m.\u001b[39;49m\u001b[43mcompress\u001b[49m\u001b[43m(\u001b[49m\u001b[43mroot\u001b[49m\u001b[43m,\u001b[49m\u001b[43m \u001b[49m\u001b[43mcompressor\u001b[49m\u001b[43m)\u001b[49m\n",
      "File \u001b[0;32m~/Documents/lai/lai-sim/env/lib/python3.10/site-packages/tszip/compression.py:127\u001b[0m, in \u001b[0;36mColumn.compress\u001b[0;34m(self, root, compressor)\u001b[0m\n\u001b[1;32m    126\u001b[0m \u001b[38;5;28;01mdef\u001b[39;00m \u001b[38;5;21mcompress\u001b[39m(\u001b[38;5;28mself\u001b[39m, root, compressor):\n\u001b[0;32m--> 127\u001b[0m     shape \u001b[38;5;241m=\u001b[39m \u001b[38;5;28;43mself\u001b[39;49m\u001b[38;5;241;43m.\u001b[39;49m\u001b[43marray\u001b[49m\u001b[38;5;241;43m.\u001b[39;49m\u001b[43mshape\u001b[49m\n\u001b[1;32m    128\u001b[0m     chunks \u001b[38;5;241m=\u001b[39m shape\n\u001b[1;32m    129\u001b[0m     \u001b[38;5;28;01mif\u001b[39;00m shape[\u001b[38;5;241m0\u001b[39m] \u001b[38;5;241m==\u001b[39m \u001b[38;5;241m0\u001b[39m:\n",
      "\u001b[0;31mAttributeError\u001b[0m: 'str' object has no attribute 'shape'"
     ]
    }
   ],
   "source": [
    "ts = msprime.simulate(3)\n",
    "tszip.compress(ts, 'test.tsz')"
   ]
  },
  {
   "cell_type": "code",
   "execution_count": null,
   "id": "994a18fa",
   "metadata": {},
   "outputs": [],
   "source": []
  }
 ],
 "metadata": {
  "kernelspec": {
   "display_name": "Python 3 (ipykernel)",
   "language": "python",
   "name": "python3"
  },
  "language_info": {
   "codemirror_mode": {
    "name": "ipython",
    "version": 3
   },
   "file_extension": ".py",
   "mimetype": "text/x-python",
   "name": "python",
   "nbconvert_exporter": "python",
   "pygments_lexer": "ipython3",
   "version": "3.10.2"
  }
 },
 "nbformat": 4,
 "nbformat_minor": 5
}
