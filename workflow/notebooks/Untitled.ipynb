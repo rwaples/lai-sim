{
 "cells": [
  {
   "cell_type": "code",
   "execution_count": 17,
   "id": "a939d790",
   "metadata": {},
   "outputs": [],
   "source": [
    "import tskit\n",
    "import tszip\n",
    "import numpy as np"
   ]
  },
  {
   "cell_type": "code",
   "execution_count": 3,
   "id": "b56549bc",
   "metadata": {},
   "outputs": [],
   "source": [
    "ts = tszip.decompress('/home/kele/Documents/lai/lai-sim/results/sims/AmericanAdmixture_4B11/AA_42.full.tsz')"
   ]
  },
  {
   "cell_type": "code",
   "execution_count": 4,
   "id": "eef4e681",
   "metadata": {},
   "outputs": [
    {
     "data": {
      "text/html": [
       "\n",
       "            <div>\n",
       "              <style>\n",
       "                .tskit-table thead tr th {text-align: left;padding: 0.5em 0.5em;}\n",
       "                .tskit-table tbody tr td {padding: 0.5em 0.5em;}\n",
       "                .tskit-table tbody tr td:first-of-type {text-align: left;}\n",
       "                .tskit-details-label {vertical-align: top; padding-right:5px;}\n",
       "                .tskit-table-set {display: inline-flex;flex-wrap: wrap;margin: -12px 0 0 -12px;width: calc(100% + 12px);}\n",
       "                .tskit-table-set-table {margin: 12px 0 0 12px;}\n",
       "                details {display: inline-block;}\n",
       "                summary {cursor: pointer; outline: 0; display: list-item;}\n",
       "              </style>\n",
       "              <div class=\"tskit-table-set\">\n",
       "                <div class=\"tskit-table-set-table\">\n",
       "                  <table class=\"tskit-table\">\n",
       "                    <thead>\n",
       "                      <tr>\n",
       "                        <th style=\"padding:0;line-height:21px;\">\n",
       "                          <img style=\"height: 32px;display: inline-block;padding: 3px 5px 3px 0;\"src=\"https://raw.githubusercontent.com/tskit-dev/administrative/main/tskit_logo.svg\"/>\n",
       "                          <a target=\"_blank\" href=\"https://tskit.readthedocs.io/en/latest/python-api.html#the-treesequence-class\"> Tree Sequence\n",
       "                        </th>\n",
       "                      </tr>\n",
       "                    </thead>\n",
       "                    <tbody>\n",
       "                      <tr><td>Trees</td><td>556279</td></tr>\n",
       "                      <tr><td>Sequence Length</td><td>2565228.0</td></tr>\n",
       "                      <tr><td>Sample Nodes</td><td>466740</td></tr>\n",
       "                      <tr><td>Total Size</td><td>156.9 MiB</td></tr>\n",
       "                      <tr>\n",
       "                        <td>Metadata</td><td style=\"text-align: left;\">No Metadata</td></tr>\n",
       "                    </tbody>\n",
       "                  </table>\n",
       "                </div>\n",
       "                <div class=\"tskit-table-set-table\">\n",
       "                  <table class=\"tskit-table\">\n",
       "                    <thead>\n",
       "                      <tr>\n",
       "                        <th style=\"line-height:21px;\">Table</th>\n",
       "                        <th>Rows</th>\n",
       "                        <th>Size</th>\n",
       "                        <th>Has Metadata</th>\n",
       "                      </tr>\n",
       "                    </thead>\n",
       "                    <tbody>\n",
       "                    \n",
       "                  <tr>\n",
       "                    <td>Edges</td>\n",
       "                      <td>3004827</td>\n",
       "                      <td>80.2 MiB</td>\n",
       "                      <td style=\"text-align: center;\">\n",
       "                        \n",
       "                      </td>\n",
       "                    </tr>\n",
       "                \n",
       "                  <tr>\n",
       "                    <td>Individuals</td>\n",
       "                      <td>233370</td>\n",
       "                      <td>14.2 MiB</td>\n",
       "                      <td style=\"text-align: center;\">\n",
       "                        ✅\n",
       "                      </td>\n",
       "                    </tr>\n",
       "                \n",
       "                  <tr>\n",
       "                    <td>Migrations</td>\n",
       "                      <td>0</td>\n",
       "                      <td>4 Bytes</td>\n",
       "                      <td style=\"text-align: center;\">\n",
       "                        \n",
       "                      </td>\n",
       "                    </tr>\n",
       "                \n",
       "                  <tr>\n",
       "                    <td>Mutations</td>\n",
       "                      <td>127028</td>\n",
       "                      <td>3.5 MiB</td>\n",
       "                      <td style=\"text-align: center;\">\n",
       "                        \n",
       "                      </td>\n",
       "                    </tr>\n",
       "                \n",
       "                  <tr>\n",
       "                    <td>Nodes</td>\n",
       "                      <td>1044829</td>\n",
       "                      <td>33.9 MiB</td>\n",
       "                      <td style=\"text-align: center;\">\n",
       "                        ✅\n",
       "                      </td>\n",
       "                    </tr>\n",
       "                \n",
       "                  <tr>\n",
       "                    <td>Populations</td>\n",
       "                      <td>4</td>\n",
       "                      <td>444 Bytes</td>\n",
       "                      <td style=\"text-align: center;\">\n",
       "                        ✅\n",
       "                      </td>\n",
       "                    </tr>\n",
       "                \n",
       "                  <tr>\n",
       "                    <td>Provenances</td>\n",
       "                      <td>3</td>\n",
       "                      <td>16.9 KiB</td>\n",
       "                      <td style=\"text-align: center;\">\n",
       "                        \n",
       "                      </td>\n",
       "                    </tr>\n",
       "                \n",
       "                  <tr>\n",
       "                    <td>Sites</td>\n",
       "                      <td>127028</td>\n",
       "                      <td>2.1 MiB</td>\n",
       "                      <td style=\"text-align: center;\">\n",
       "                        \n",
       "                      </td>\n",
       "                    </tr>\n",
       "                \n",
       "                    </tbody>\n",
       "                  </table>\n",
       "                </div>\n",
       "              </div>\n",
       "            </div>\n",
       "            "
      ],
      "text/plain": [
       "<tskit.trees.TreeSequence at 0x7f73733e99d0>"
      ]
     },
     "execution_count": 4,
     "metadata": {},
     "output_type": "execute_result"
    }
   ],
   "source": [
    "ts"
   ]
  },
  {
   "cell_type": "code",
   "execution_count": 22,
   "id": "4bab1df3",
   "metadata": {},
   "outputs": [],
   "source": [
    "take = np.array([], dtype = int)\n",
    "per_pop = 14\n",
    "for pop in ts.populations():\n",
    "    samples = ts.samples(population = pop.id)[:per_pop]\n",
    "    take = np.concatenate([take, samples])"
   ]
  },
  {
   "cell_type": "code",
   "execution_count": 23,
   "id": "68ad31d3",
   "metadata": {},
   "outputs": [
    {
     "data": {
      "text/plain": [
       "array([     0,      1,      2,      3,      4,      5,      6,      7,\n",
       "            8,      9,     10,     11,     12,     13,  28948,  28949,\n",
       "        28950,  28951,  28952,  28953,  28954,  28955,  28956,  28957,\n",
       "        28958,  28959,  28960,  28961,  91804,  91805,  91806,  91807,\n",
       "        91808,  91809,  91810,  91811,  91812,  91813,  91814,  91815,\n",
       "        91816,  91817, 174744, 174745, 174746, 174747, 174748, 174749,\n",
       "       174750, 174751, 174752, 174753, 362754, 362755, 362756, 362757])"
      ]
     },
     "execution_count": 23,
     "metadata": {},
     "output_type": "execute_result"
    }
   ],
   "source": [
    "take"
   ]
  },
  {
   "cell_type": "code",
   "execution_count": 27,
   "id": "1e6f39da",
   "metadata": {},
   "outputs": [
    {
     "data": {
      "text/plain": [
       "array([     0,      2,      4,      6,      8,     10,     12,  28948,\n",
       "        28950,  28952,  28954,  28956,  28958,  28960,  91804,  91806,\n",
       "        91808,  91810,  91812,  91814,  91816, 174744, 174746, 174748,\n",
       "       174750, 174752, 362754, 362756])"
      ]
     },
     "execution_count": 27,
     "metadata": {},
     "output_type": "execute_result"
    }
   ],
   "source": [
    "take[::2]"
   ]
  },
  {
   "cell_type": "code",
   "execution_count": 24,
   "id": "bdb59312",
   "metadata": {},
   "outputs": [],
   "source": [
    "simp_ts = ts.simplify(\n",
    "    samples=take, \n",
    "    map_nodes=True, \n",
    "    filter_populations=False\n",
    ")"
   ]
  },
  {
   "cell_type": "code",
   "execution_count": 26,
   "id": "a7cd7c6b",
   "metadata": {},
   "outputs": [
    {
     "data": {
      "text/html": [
       "\n",
       "            <div>\n",
       "              <style>\n",
       "                .tskit-table thead tr th {text-align: left;padding: 0.5em 0.5em;}\n",
       "                .tskit-table tbody tr td {padding: 0.5em 0.5em;}\n",
       "                .tskit-table tbody tr td:first-of-type {text-align: left;}\n",
       "                .tskit-details-label {vertical-align: top; padding-right:5px;}\n",
       "                .tskit-table-set {display: inline-flex;flex-wrap: wrap;margin: -12px 0 0 -12px;width: calc(100% + 12px);}\n",
       "                .tskit-table-set-table {margin: 12px 0 0 12px;}\n",
       "                details {display: inline-block;}\n",
       "                summary {cursor: pointer; outline: 0; display: list-item;}\n",
       "              </style>\n",
       "              <div class=\"tskit-table-set\">\n",
       "                <div class=\"tskit-table-set-table\">\n",
       "                  <table class=\"tskit-table\">\n",
       "                    <thead>\n",
       "                      <tr>\n",
       "                        <th style=\"padding:0;line-height:21px;\">\n",
       "                          <img style=\"height: 32px;display: inline-block;padding: 3px 5px 3px 0;\"src=\"https://raw.githubusercontent.com/tskit-dev/administrative/main/tskit_logo.svg\"/>\n",
       "                          <a target=\"_blank\" href=\"https://tskit.readthedocs.io/en/latest/python-api.html#the-treesequence-class\"> Tree Sequence\n",
       "                        </th>\n",
       "                      </tr>\n",
       "                    </thead>\n",
       "                    <tbody>\n",
       "                      <tr><td>Trees</td><td>28525</td></tr>\n",
       "                      <tr><td>Sequence Length</td><td>2565228.0</td></tr>\n",
       "                      <tr><td>Sample Nodes</td><td>56</td></tr>\n",
       "                      <tr><td>Total Size</td><td>4.1 MiB</td></tr>\n",
       "                      <tr>\n",
       "                        <td>Metadata</td><td style=\"text-align: left;\">No Metadata</td></tr>\n",
       "                    </tbody>\n",
       "                  </table>\n",
       "                </div>\n",
       "                <div class=\"tskit-table-set-table\">\n",
       "                  <table class=\"tskit-table\">\n",
       "                    <thead>\n",
       "                      <tr>\n",
       "                        <th style=\"line-height:21px;\">Table</th>\n",
       "                        <th>Rows</th>\n",
       "                        <th>Size</th>\n",
       "                        <th>Has Metadata</th>\n",
       "                      </tr>\n",
       "                    </thead>\n",
       "                    <tbody>\n",
       "                    \n",
       "                  <tr>\n",
       "                    <td>Edges</td>\n",
       "                      <td>102078</td>\n",
       "                      <td>2.7 MiB</td>\n",
       "                      <td style=\"text-align: center;\">\n",
       "                        \n",
       "                      </td>\n",
       "                    </tr>\n",
       "                \n",
       "                  <tr>\n",
       "                    <td>Individuals</td>\n",
       "                      <td>28</td>\n",
       "                      <td>1.8 KiB</td>\n",
       "                      <td style=\"text-align: center;\">\n",
       "                        ✅\n",
       "                      </td>\n",
       "                    </tr>\n",
       "                \n",
       "                  <tr>\n",
       "                    <td>Migrations</td>\n",
       "                      <td>0</td>\n",
       "                      <td>4 Bytes</td>\n",
       "                      <td style=\"text-align: center;\">\n",
       "                        \n",
       "                      </td>\n",
       "                    </tr>\n",
       "                \n",
       "                  <tr>\n",
       "                    <td>Mutations</td>\n",
       "                      <td>8435</td>\n",
       "                      <td>238.9 KiB</td>\n",
       "                      <td style=\"text-align: center;\">\n",
       "                        \n",
       "                      </td>\n",
       "                    </tr>\n",
       "                \n",
       "                  <tr>\n",
       "                    <td>Nodes</td>\n",
       "                      <td>7653</td>\n",
       "                      <td>252.9 KiB</td>\n",
       "                      <td style=\"text-align: center;\">\n",
       "                        ✅\n",
       "                      </td>\n",
       "                    </tr>\n",
       "                \n",
       "                  <tr>\n",
       "                    <td>Populations</td>\n",
       "                      <td>4</td>\n",
       "                      <td>444 Bytes</td>\n",
       "                      <td style=\"text-align: center;\">\n",
       "                        ✅\n",
       "                      </td>\n",
       "                    </tr>\n",
       "                \n",
       "                  <tr>\n",
       "                    <td>Provenances</td>\n",
       "                      <td>4</td>\n",
       "                      <td>17.4 KiB</td>\n",
       "                      <td style=\"text-align: center;\">\n",
       "                        \n",
       "                      </td>\n",
       "                    </tr>\n",
       "                \n",
       "                  <tr>\n",
       "                    <td>Sites</td>\n",
       "                      <td>8435</td>\n",
       "                      <td>140.0 KiB</td>\n",
       "                      <td style=\"text-align: center;\">\n",
       "                        \n",
       "                      </td>\n",
       "                    </tr>\n",
       "                \n",
       "                    </tbody>\n",
       "                  </table>\n",
       "                </div>\n",
       "              </div>\n",
       "            </div>\n",
       "            "
      ],
      "text/plain": [
       "<tskit.trees.TreeSequence at 0x7f737341a250>"
      ]
     },
     "execution_count": 26,
     "metadata": {},
     "output_type": "execute_result"
    }
   ],
   "source": [
    "simp_ts[0]"
   ]
  },
  {
   "cell_type": "code",
   "execution_count": 57,
   "id": "c804a684",
   "metadata": {},
   "outputs": [
    {
     "data": {
      "text/plain": [
       "[4]"
      ]
     },
     "execution_count": 57,
     "metadata": {},
     "output_type": "execute_result"
    }
   ],
   "source": [
    "[1,1,3,4][-1:]"
   ]
  },
  {
   "cell_type": "code",
   "execution_count": 47,
   "id": "8af9f43b",
   "metadata": {},
   "outputs": [
    {
     "data": {
      "text/plain": [
       "(array([371680, 371681, 437354, 437355, 376066, 376067, 372022, 372023,\n",
       "        443206, 443207, 441892, 441893, 408372, 408373, 464192, 464193,\n",
       "        417488, 417489, 407764, 407765, 416116, 416117, 372536, 372537,\n",
       "        439250, 439251, 430796, 430797, 452014, 452015, 383692, 383693,\n",
       "        435252, 435253, 444488, 444489]),\n",
       " array([409088, 409089, 441564, 441565, 441766, 441767, 379922, 379923,\n",
       "        428418, 428419, 451974, 451975, 433238, 433239, 455616, 455617,\n",
       "        391518, 391519, 435580, 435581, 463678, 463679, 443688, 443689,\n",
       "        369806, 369807, 448788, 448789, 382984, 382985, 369378, 369379,\n",
       "        400588, 400589, 399606, 399607]))"
      ]
     },
     "execution_count": 47,
     "metadata": {},
     "output_type": "execute_result"
    }
   ],
   "source": [
    "from numpy.random import default_rng\n",
    "random_seed = 42\n",
    "rng = default_rng(random_seed)\n",
    "\n",
    "def sample_inds(ts, pop_id, nind):\n",
    "    \"\"\"return the haploid sample ids representing sampling nind individuals from pop_id in ts\"\"\"\n",
    "    hap_samples = ts.samples(population = pop.id)\n",
    "    # sample from the first haploids of each ind\n",
    "    take = rng.choice(hap_samples[::2], nind, replace=False)\n",
    "    samples = np.empty(nind*2, dtype=int)\n",
    "    samples[0::2] = take\n",
    "    samples[1::2] = take+1\n",
    "    return(samples)\n",
    "    \n",
    "\n",
    "sample_inds(ts, 3, 18), sample_inds(ts, 2, 18)"
   ]
  },
  {
   "cell_type": "code",
   "execution_count": 61,
   "id": "e6842dc6",
   "metadata": {},
   "outputs": [
    {
     "data": {
      "text/plain": [
       "array([378580, 378581, 379510, 379511, 380026, 380027, 387572, 387573,\n",
       "       394098, 394099, 402364, 402365, 409136, 409137, 410760, 410761,\n",
       "       414278, 414279, 414454, 414455, 414836, 414837, 425890, 425891,\n",
       "       428288, 428289, 433842, 433843, 435144, 435145, 437292, 437293,\n",
       "       456378, 456379, 460274, 460275])"
      ]
     },
     "execution_count": 61,
     "metadata": {},
     "output_type": "execute_result"
    }
   ],
   "source": [
    "a = sample_inds(ts, 2, 18)\n",
    "a.sort()\n",
    "a"
   ]
  },
  {
   "cell_type": "code",
   "execution_count": null,
   "id": "daa249bc",
   "metadata": {},
   "outputs": [],
   "source": [
    "c = np.empty((a.size + b.size), dtype=a.dtype)\n",
    "c[0::2] = a\n",
    "c[1::2] = b"
   ]
  },
  {
   "cell_type": "code",
   "execution_count": 50,
   "id": "35f75bbf",
   "metadata": {},
   "outputs": [],
   "source": [
    "import os \n",
    "import pandas as pd"
   ]
  },
  {
   "cell_type": "code",
   "execution_count": 28,
   "id": "1c0528e3",
   "metadata": {},
   "outputs": [
    {
     "data": {
      "text/plain": [
       "array([4.66610009e-310, 0.00000000e+000, 6.92363728e-310, 6.92353203e-310])"
      ]
     },
     "execution_count": 28,
     "metadata": {},
     "output_type": "execute_result"
    }
   ],
   "source": [
    "np.empty(4)"
   ]
  },
  {
   "cell_type": "code",
   "execution_count": null,
   "id": "ab785c4d",
   "metadata": {},
   "outputs": [],
   "source": []
  },
  {
   "cell_type": "code",
   "execution_count": null,
   "id": "a56207df",
   "metadata": {},
   "outputs": [],
   "source": []
  },
  {
   "cell_type": "code",
   "execution_count": 52,
   "id": "ee63b126",
   "metadata": {},
   "outputs": [],
   "source": [
    "os.chdir('/home/kele/Documents/lai/lai-sim')"
   ]
  },
  {
   "cell_type": "code",
   "execution_count": 53,
   "id": "dd13bbc9",
   "metadata": {},
   "outputs": [],
   "source": [
    "config= dict()\n",
    "config[\"simulations\"] = 'config/simulations.tsv'\n",
    "config[\"analyses\"] =  'config/analyses.tsv'"
   ]
  },
  {
   "cell_type": "code",
   "execution_count": 55,
   "id": "7c14d1e3",
   "metadata": {},
   "outputs": [
    {
     "data": {
      "text/html": [
       "<div>\n",
       "<style scoped>\n",
       "    .dataframe tbody tr th:only-of-type {\n",
       "        vertical-align: middle;\n",
       "    }\n",
       "\n",
       "    .dataframe tbody tr th {\n",
       "        vertical-align: top;\n",
       "    }\n",
       "\n",
       "    .dataframe thead th {\n",
       "        text-align: right;\n",
       "    }\n",
       "</style>\n",
       "<table border=\"1\" class=\"dataframe\">\n",
       "  <thead>\n",
       "    <tr style=\"text-align: right;\">\n",
       "      <th></th>\n",
       "      <th>anal_name</th>\n",
       "      <th>sim_name</th>\n",
       "      <th>nsamp_admixed</th>\n",
       "      <th>nsamp_ref</th>\n",
       "      <th>MAC_filter</th>\n",
       "      <th>max_snps</th>\n",
       "      <th>model_name</th>\n",
       "      <th>random_seed</th>\n",
       "      <th>slim_script_path</th>\n",
       "      <th>ancestral_Ne</th>\n",
       "      <th>mutation_rate</th>\n",
       "      <th>chr</th>\n",
       "      <th>chr_len</th>\n",
       "    </tr>\n",
       "  </thead>\n",
       "  <tbody>\n",
       "    <tr>\n",
       "      <th>0</th>\n",
       "      <td>test_anal_1</td>\n",
       "      <td>AA_42</td>\n",
       "      <td>50</td>\n",
       "      <td>50</td>\n",
       "      <td>5</td>\n",
       "      <td>10000</td>\n",
       "      <td>AmericanAdmixture_4B11</td>\n",
       "      <td>42</td>\n",
       "      <td>workflow/scripts/sim/SLiM/AmericanAdmixture_4B...</td>\n",
       "      <td>7310</td>\n",
       "      <td>1.440000e-08</td>\n",
       "      <td>chr22</td>\n",
       "      <td>0.25</td>\n",
       "    </tr>\n",
       "  </tbody>\n",
       "</table>\n",
       "</div>"
      ],
      "text/plain": [
       "     anal_name sim_name  nsamp_admixed  nsamp_ref  MAC_filter  max_snps  \\\n",
       "0  test_anal_1    AA_42             50         50           5     10000   \n",
       "\n",
       "               model_name  random_seed  \\\n",
       "0  AmericanAdmixture_4B11           42   \n",
       "\n",
       "                                    slim_script_path  ancestral_Ne  \\\n",
       "0  workflow/scripts/sim/SLiM/AmericanAdmixture_4B...          7310   \n",
       "\n",
       "   mutation_rate    chr  chr_len  \n",
       "0   1.440000e-08  chr22     0.25  "
      ]
     },
     "execution_count": 55,
     "metadata": {},
     "output_type": "execute_result"
    }
   ],
   "source": [
    "# this file has one line per base simulation run\n",
    "# up through the recap and mutate step\n",
    "simulations = pd.read_csv(config[\"simulations\"], sep=\"\\t\")\n",
    "analyses = pd.read_csv(config[\"analyses\"], sep=\"\\t\")\n",
    "units = analyses.merge(simulations, on=['sim_name'])\n",
    "units"
   ]
  },
  {
   "cell_type": "code",
   "execution_count": 44,
   "id": "7db6985f",
   "metadata": {},
   "outputs": [
    {
     "data": {
      "text/plain": [
       "'AA_42'"
      ]
     },
     "execution_count": 44,
     "metadata": {},
     "output_type": "execute_result"
    }
   ],
   "source": [
    "next(simulations.itertuples()).sim_name"
   ]
  },
  {
   "cell_type": "code",
   "execution_count": 45,
   "id": "4eca8545",
   "metadata": {},
   "outputs": [
    {
     "data": {
      "text/html": [
       "<div>\n",
       "<style scoped>\n",
       "    .dataframe tbody tr th:only-of-type {\n",
       "        vertical-align: middle;\n",
       "    }\n",
       "\n",
       "    .dataframe tbody tr th {\n",
       "        vertical-align: top;\n",
       "    }\n",
       "\n",
       "    .dataframe thead th {\n",
       "        text-align: right;\n",
       "    }\n",
       "</style>\n",
       "<table border=\"1\" class=\"dataframe\">\n",
       "  <thead>\n",
       "    <tr style=\"text-align: right;\">\n",
       "      <th></th>\n",
       "      <th>sim_name</th>\n",
       "      <th>model_name</th>\n",
       "      <th>random_seed</th>\n",
       "      <th>slim_script_path</th>\n",
       "      <th>ancestral_Ne</th>\n",
       "      <th>mutation_rate</th>\n",
       "      <th>chr</th>\n",
       "      <th>chr_len</th>\n",
       "    </tr>\n",
       "    <tr>\n",
       "      <th>sim_name</th>\n",
       "      <th></th>\n",
       "      <th></th>\n",
       "      <th></th>\n",
       "      <th></th>\n",
       "      <th></th>\n",
       "      <th></th>\n",
       "      <th></th>\n",
       "      <th></th>\n",
       "    </tr>\n",
       "  </thead>\n",
       "  <tbody>\n",
       "    <tr>\n",
       "      <th>AA_42</th>\n",
       "      <td>AA_42</td>\n",
       "      <td>AmericanAdmixture_4B11</td>\n",
       "      <td>42</td>\n",
       "      <td>../workflow/scripts/sim/SliM/AmericanAdmixture...</td>\n",
       "      <td>7310</td>\n",
       "      <td>1.440000e-08</td>\n",
       "      <td>chr22</td>\n",
       "      <td>0.25</td>\n",
       "    </tr>\n",
       "    <tr>\n",
       "      <th>AA_52</th>\n",
       "      <td>AA_52</td>\n",
       "      <td>AmericanAdmixture_4B11</td>\n",
       "      <td>52</td>\n",
       "      <td>workflow/scripts/sim/SliM/AmericanAdmixture_4B...</td>\n",
       "      <td>7310</td>\n",
       "      <td>1.440000e-08</td>\n",
       "      <td>chr22</td>\n",
       "      <td>0.25</td>\n",
       "    </tr>\n",
       "  </tbody>\n",
       "</table>\n",
       "</div>"
      ],
      "text/plain": [
       "         sim_name              model_name  random_seed  \\\n",
       "sim_name                                                 \n",
       "AA_42       AA_42  AmericanAdmixture_4B11           42   \n",
       "AA_52       AA_52  AmericanAdmixture_4B11           52   \n",
       "\n",
       "                                           slim_script_path  ancestral_Ne  \\\n",
       "sim_name                                                                    \n",
       "AA_42     ../workflow/scripts/sim/SliM/AmericanAdmixture...          7310   \n",
       "AA_52     workflow/scripts/sim/SliM/AmericanAdmixture_4B...          7310   \n",
       "\n",
       "          mutation_rate    chr  chr_len  \n",
       "sim_name                                 \n",
       "AA_42      1.440000e-08  chr22     0.25  \n",
       "AA_52      1.440000e-08  chr22     0.25  "
      ]
     },
     "execution_count": 45,
     "metadata": {},
     "output_type": "execute_result"
    }
   ],
   "source": [
    "simulations"
   ]
  },
  {
   "cell_type": "code",
   "execution_count": 46,
   "id": "dc4f7eef",
   "metadata": {},
   "outputs": [
    {
     "data": {
      "text/plain": [
       "['results/sims/AmericanAdmixture_4B11/AA_42.full.tsz',\n",
       " 'results/sims/AmericanAdmixture_4B11/AA_52.full.tsz']"
      ]
     },
     "execution_count": 46,
     "metadata": {},
     "output_type": "execute_result"
    }
   ],
   "source": [
    "[f'results/sims/{s.model_name}/{s.sim_name}.full.tsz' for s in simulations.itertuples()]"
   ]
  },
  {
   "cell_type": "code",
   "execution_count": 30,
   "id": "d4ccf4de",
   "metadata": {},
   "outputs": [
    {
     "data": {
      "text/html": [
       "<div>\n",
       "<style scoped>\n",
       "    .dataframe tbody tr th:only-of-type {\n",
       "        vertical-align: middle;\n",
       "    }\n",
       "\n",
       "    .dataframe tbody tr th {\n",
       "        vertical-align: top;\n",
       "    }\n",
       "\n",
       "    .dataframe thead th {\n",
       "        text-align: right;\n",
       "    }\n",
       "</style>\n",
       "<table border=\"1\" class=\"dataframe\">\n",
       "  <thead>\n",
       "    <tr style=\"text-align: right;\">\n",
       "      <th></th>\n",
       "      <th>anal_name</th>\n",
       "      <th>sim_name</th>\n",
       "      <th>nsamp_admixed</th>\n",
       "      <th>nsamp_ref</th>\n",
       "      <th>MAC_filter</th>\n",
       "      <th>max_snps</th>\n",
       "      <th>model_name</th>\n",
       "      <th>random_seed</th>\n",
       "      <th>slim_script_path</th>\n",
       "      <th>ancestral_Ne</th>\n",
       "      <th>mutation_rate</th>\n",
       "      <th>chr</th>\n",
       "      <th>chr_len</th>\n",
       "    </tr>\n",
       "  </thead>\n",
       "  <tbody>\n",
       "    <tr>\n",
       "      <th>0</th>\n",
       "      <td>test_anal_1</td>\n",
       "      <td>AA_42</td>\n",
       "      <td>50</td>\n",
       "      <td>50</td>\n",
       "      <td>5</td>\n",
       "      <td>10000</td>\n",
       "      <td>AmericanAdmixture_4B11</td>\n",
       "      <td>42</td>\n",
       "      <td>workflow/scripts/sim/SliM/AmericanAdmixture_4B...</td>\n",
       "      <td>7310</td>\n",
       "      <td>1.440000e-08</td>\n",
       "      <td>chr22</td>\n",
       "      <td>0.25</td>\n",
       "    </tr>\n",
       "  </tbody>\n",
       "</table>\n",
       "</div>"
      ],
      "text/plain": [
       "     anal_name sim_name  nsamp_admixed  nsamp_ref  MAC_filter  max_snps  \\\n",
       "0  test_anal_1    AA_42             50         50           5     10000   \n",
       "\n",
       "               model_name  random_seed  \\\n",
       "0  AmericanAdmixture_4B11           42   \n",
       "\n",
       "                                    slim_script_path  ancestral_Ne  \\\n",
       "0  workflow/scripts/sim/SliM/AmericanAdmixture_4B...          7310   \n",
       "\n",
       "   mutation_rate    chr  chr_len  \n",
       "0   1.440000e-08  chr22     0.25  "
      ]
     },
     "execution_count": 30,
     "metadata": {},
     "output_type": "execute_result"
    }
   ],
   "source": [
    "#units = analyses.merge(simulations, on = ['sim_name'])\n",
    "#units = units.set_index(['sim_name', 'anal_name'])\n",
    "units"
   ]
  },
  {
   "cell_type": "code",
   "execution_count": 25,
   "id": "c683b2d0",
   "metadata": {},
   "outputs": [
    {
     "data": {
      "text/html": [
       "<div>\n",
       "<style scoped>\n",
       "    .dataframe tbody tr th:only-of-type {\n",
       "        vertical-align: middle;\n",
       "    }\n",
       "\n",
       "    .dataframe tbody tr th {\n",
       "        vertical-align: top;\n",
       "    }\n",
       "\n",
       "    .dataframe thead th {\n",
       "        text-align: right;\n",
       "    }\n",
       "</style>\n",
       "<table border=\"1\" class=\"dataframe\">\n",
       "  <thead>\n",
       "    <tr style=\"text-align: right;\">\n",
       "      <th></th>\n",
       "      <th>model_name</th>\n",
       "      <th>random_seed</th>\n",
       "      <th>slim_script_path</th>\n",
       "      <th>ancestral_Ne</th>\n",
       "      <th>mutation_rate</th>\n",
       "      <th>chr</th>\n",
       "      <th>chr_len</th>\n",
       "    </tr>\n",
       "    <tr>\n",
       "      <th>sim_name</th>\n",
       "      <th></th>\n",
       "      <th></th>\n",
       "      <th></th>\n",
       "      <th></th>\n",
       "      <th></th>\n",
       "      <th></th>\n",
       "      <th></th>\n",
       "    </tr>\n",
       "  </thead>\n",
       "  <tbody>\n",
       "    <tr>\n",
       "      <th>AA_42</th>\n",
       "      <td>AmericanAdmixture_4B11</td>\n",
       "      <td>42</td>\n",
       "      <td>workflow/scripts/sim/SliM/AmericanAdmixture_4B...</td>\n",
       "      <td>7310</td>\n",
       "      <td>1.440000e-08</td>\n",
       "      <td>chr22</td>\n",
       "      <td>0.25</td>\n",
       "    </tr>\n",
       "    <tr>\n",
       "      <th>AA_52</th>\n",
       "      <td>AmericanAdmixture_4B11</td>\n",
       "      <td>52</td>\n",
       "      <td>workflow/scripts/sim/SliM/AmericanAdmixture_4B...</td>\n",
       "      <td>7310</td>\n",
       "      <td>1.440000e-08</td>\n",
       "      <td>chr22</td>\n",
       "      <td>0.25</td>\n",
       "    </tr>\n",
       "  </tbody>\n",
       "</table>\n",
       "</div>"
      ],
      "text/plain": [
       "                      model_name  random_seed  \\\n",
       "sim_name                                        \n",
       "AA_42     AmericanAdmixture_4B11           42   \n",
       "AA_52     AmericanAdmixture_4B11           52   \n",
       "\n",
       "                                           slim_script_path  ancestral_Ne  \\\n",
       "sim_name                                                                    \n",
       "AA_42     workflow/scripts/sim/SliM/AmericanAdmixture_4B...          7310   \n",
       "AA_52     workflow/scripts/sim/SliM/AmericanAdmixture_4B...          7310   \n",
       "\n",
       "          mutation_rate    chr  chr_len  \n",
       "sim_name                                 \n",
       "AA_42      1.440000e-08  chr22     0.25  \n",
       "AA_52      1.440000e-08  chr22     0.25  "
      ]
     },
     "execution_count": 25,
     "metadata": {},
     "output_type": "execute_result"
    }
   ],
   "source": [
    "simulations"
   ]
  },
  {
   "cell_type": "code",
   "execution_count": 28,
   "id": "9dfe700f",
   "metadata": {},
   "outputs": [
    {
     "data": {
      "text/html": [
       "<div>\n",
       "<style scoped>\n",
       "    .dataframe tbody tr th:only-of-type {\n",
       "        vertical-align: middle;\n",
       "    }\n",
       "\n",
       "    .dataframe tbody tr th {\n",
       "        vertical-align: top;\n",
       "    }\n",
       "\n",
       "    .dataframe thead th {\n",
       "        text-align: right;\n",
       "    }\n",
       "</style>\n",
       "<table border=\"1\" class=\"dataframe\">\n",
       "  <thead>\n",
       "    <tr style=\"text-align: right;\">\n",
       "      <th></th>\n",
       "      <th>sim_name</th>\n",
       "      <th>nsamp_admixed</th>\n",
       "      <th>nsamp_ref</th>\n",
       "      <th>MAC_filter</th>\n",
       "      <th>max_snps</th>\n",
       "    </tr>\n",
       "    <tr>\n",
       "      <th>anal_name</th>\n",
       "      <th></th>\n",
       "      <th></th>\n",
       "      <th></th>\n",
       "      <th></th>\n",
       "      <th></th>\n",
       "    </tr>\n",
       "  </thead>\n",
       "  <tbody>\n",
       "    <tr>\n",
       "      <th>test_anal_1</th>\n",
       "      <td>AA_42</td>\n",
       "      <td>50</td>\n",
       "      <td>50</td>\n",
       "      <td>5</td>\n",
       "      <td>10000</td>\n",
       "    </tr>\n",
       "  </tbody>\n",
       "</table>\n",
       "</div>"
      ],
      "text/plain": [
       "            sim_name  nsamp_admixed  nsamp_ref  MAC_filter  max_snps\n",
       "anal_name                                                           \n",
       "test_anal_1    AA_42             50         50           5     10000"
      ]
     },
     "execution_count": 28,
     "metadata": {},
     "output_type": "execute_result"
    }
   ],
   "source": [
    "analyses"
   ]
  },
  {
   "cell_type": "code",
   "execution_count": 48,
   "id": "05335cf9",
   "metadata": {},
   "outputs": [
    {
     "ename": "NameError",
     "evalue": "name 'units' is not defined",
     "output_type": "error",
     "traceback": [
      "\u001b[0;31m---------------------------------------------------------------------------\u001b[0m",
      "\u001b[0;31mNameError\u001b[0m                                 Traceback (most recent call last)",
      "\u001b[0;32m<ipython-input-48-1b4ada50d449>\u001b[0m in \u001b[0;36m<module>\u001b[0;34m\u001b[0m\n\u001b[0;32m----> 1\u001b[0;31m \u001b[0munits\u001b[0m\u001b[0;34m\u001b[0m\u001b[0;34m\u001b[0m\u001b[0m\n\u001b[0m",
      "\u001b[0;31mNameError\u001b[0m: name 'units' is not defined"
     ]
    }
   ],
   "source": [
    "units"
   ]
  },
  {
   "cell_type": "code",
   "execution_count": 23,
   "id": "df5cf0ad",
   "metadata": {},
   "outputs": [
    {
     "data": {
      "text/plain": [
       "nsamp_admixed                                                      50\n",
       "nsamp_ref                                                          50\n",
       "MAC_filter                                                          5\n",
       "max_snps                                                        10000\n",
       "model_name                                     AmericanAdmixture_4B11\n",
       "random_seed                                                        42\n",
       "slim_script_path    workflow/scripts/sim/SliM/AmericanAdmixture_4B...\n",
       "ancestral_Ne                                                     7310\n",
       "mutation_rate                                                     0.0\n",
       "chr                                                             chr22\n",
       "chr_len                                                          0.25\n",
       "Name: (AA_42, test_anal_1), dtype: object"
      ]
     },
     "execution_count": 23,
     "metadata": {},
     "output_type": "execute_result"
    }
   ],
   "source": [
    "units.loc[('AA_42', 'test_anal_1')]"
   ]
  },
  {
   "cell_type": "code",
   "execution_count": 15,
   "id": "bd1a64b4",
   "metadata": {},
   "outputs": [
    {
     "data": {
      "text/html": [
       "<div>\n",
       "<style scoped>\n",
       "    .dataframe tbody tr th:only-of-type {\n",
       "        vertical-align: middle;\n",
       "    }\n",
       "\n",
       "    .dataframe tbody tr th {\n",
       "        vertical-align: top;\n",
       "    }\n",
       "\n",
       "    .dataframe thead th {\n",
       "        text-align: right;\n",
       "    }\n",
       "</style>\n",
       "<table border=\"1\" class=\"dataframe\">\n",
       "  <thead>\n",
       "    <tr style=\"text-align: right;\">\n",
       "      <th></th>\n",
       "      <th></th>\n",
       "      <th>nsamp_admixed</th>\n",
       "      <th>nsamp_ref</th>\n",
       "      <th>MAC_filter</th>\n",
       "      <th>max_snps</th>\n",
       "      <th>model_name</th>\n",
       "      <th>random_seed</th>\n",
       "      <th>slim_script_path</th>\n",
       "      <th>ancestral_Ne</th>\n",
       "      <th>mutation_rate</th>\n",
       "      <th>chr</th>\n",
       "      <th>chr_len</th>\n",
       "    </tr>\n",
       "    <tr>\n",
       "      <th>sim_name</th>\n",
       "      <th>anal_name</th>\n",
       "      <th></th>\n",
       "      <th></th>\n",
       "      <th></th>\n",
       "      <th></th>\n",
       "      <th></th>\n",
       "      <th></th>\n",
       "      <th></th>\n",
       "      <th></th>\n",
       "      <th></th>\n",
       "      <th></th>\n",
       "      <th></th>\n",
       "    </tr>\n",
       "  </thead>\n",
       "  <tbody>\n",
       "    <tr>\n",
       "      <th>AA_42</th>\n",
       "      <th>test_anal_1</th>\n",
       "      <td>50</td>\n",
       "      <td>50</td>\n",
       "      <td>5</td>\n",
       "      <td>10000</td>\n",
       "      <td>AmericanAdmixture_4B11</td>\n",
       "      <td>42</td>\n",
       "      <td>workflow/scripts/sim/SliM/AmericanAdmixture_4B...</td>\n",
       "      <td>7310</td>\n",
       "      <td>1.440000e-08</td>\n",
       "      <td>chr22</td>\n",
       "      <td>0.25</td>\n",
       "    </tr>\n",
       "  </tbody>\n",
       "</table>\n",
       "</div>"
      ],
      "text/plain": [
       "                      nsamp_admixed  nsamp_ref  MAC_filter  max_snps  \\\n",
       "sim_name anal_name                                                     \n",
       "AA_42    test_anal_1             50         50           5     10000   \n",
       "\n",
       "                                  model_name  random_seed  \\\n",
       "sim_name anal_name                                          \n",
       "AA_42    test_anal_1  AmericanAdmixture_4B11           42   \n",
       "\n",
       "                                                       slim_script_path  \\\n",
       "sim_name anal_name                                                        \n",
       "AA_42    test_anal_1  workflow/scripts/sim/SliM/AmericanAdmixture_4B...   \n",
       "\n",
       "                      ancestral_Ne  mutation_rate    chr  chr_len  \n",
       "sim_name anal_name                                                 \n",
       "AA_42    test_anal_1          7310   1.440000e-08  chr22     0.25  "
      ]
     },
     "execution_count": 15,
     "metadata": {},
     "output_type": "execute_result"
    }
   ],
   "source": []
  },
  {
   "cell_type": "code",
   "execution_count": 14,
   "id": "836c73e6",
   "metadata": {},
   "outputs": [
    {
     "data": {
      "text/plain": [
       "['results/sims/AmericanAdmixture_4B11/AA_42.full.tsz']"
      ]
     },
     "execution_count": 14,
     "metadata": {},
     "output_type": "execute_result"
    }
   ],
   "source": [
    "[f'results/sims/{u.model_name}/{u.sim_name}.full.tsz' for u in units.itertuples()]"
   ]
  },
  {
   "cell_type": "code",
   "execution_count": null,
   "id": "8f469a98",
   "metadata": {},
   "outputs": [],
   "source": []
  },
  {
   "cell_type": "code",
   "execution_count": 7,
   "id": "900e4015",
   "metadata": {},
   "outputs": [
    {
     "ename": "ValueError",
     "evalue": "'sim_name' is both an index level and a column label, which is ambiguous.",
     "output_type": "error",
     "traceback": [
      "\u001b[0;31m---------------------------------------------------------------------------\u001b[0m",
      "\u001b[0;31mValueError\u001b[0m                                Traceback (most recent call last)",
      "\u001b[0;32m<ipython-input-7-b581c3d156d1>\u001b[0m in \u001b[0;36m<module>\u001b[0;34m\u001b[0m\n\u001b[1;32m     16\u001b[0m )\n\u001b[1;32m     17\u001b[0m \u001b[0;34m\u001b[0m\u001b[0m\n\u001b[0;32m---> 18\u001b[0;31m \u001b[0munits\u001b[0m \u001b[0;34m=\u001b[0m \u001b[0manalyses\u001b[0m\u001b[0;34m.\u001b[0m\u001b[0mmerge\u001b[0m\u001b[0;34m(\u001b[0m\u001b[0msimulations\u001b[0m\u001b[0;34m,\u001b[0m \u001b[0mon\u001b[0m \u001b[0;34m=\u001b[0m \u001b[0;34m[\u001b[0m\u001b[0;34m'sim_name'\u001b[0m\u001b[0;34m]\u001b[0m\u001b[0;34m)\u001b[0m\u001b[0;34m\u001b[0m\u001b[0;34m\u001b[0m\u001b[0m\n\u001b[0m",
      "\u001b[0;32m~/Documents/lai/lai-sim/env/lib/python3.9/site-packages/pandas/core/frame.py\u001b[0m in \u001b[0;36mmerge\u001b[0;34m(self, right, how, on, left_on, right_on, left_index, right_index, sort, suffixes, copy, indicator, validate)\u001b[0m\n\u001b[1;32m   8193\u001b[0m         \u001b[0;32mfrom\u001b[0m \u001b[0mpandas\u001b[0m\u001b[0;34m.\u001b[0m\u001b[0mcore\u001b[0m\u001b[0;34m.\u001b[0m\u001b[0mreshape\u001b[0m\u001b[0;34m.\u001b[0m\u001b[0mmerge\u001b[0m \u001b[0;32mimport\u001b[0m \u001b[0mmerge\u001b[0m\u001b[0;34m\u001b[0m\u001b[0;34m\u001b[0m\u001b[0m\n\u001b[1;32m   8194\u001b[0m \u001b[0;34m\u001b[0m\u001b[0m\n\u001b[0;32m-> 8195\u001b[0;31m         return merge(\n\u001b[0m\u001b[1;32m   8196\u001b[0m             \u001b[0mself\u001b[0m\u001b[0;34m,\u001b[0m\u001b[0;34m\u001b[0m\u001b[0;34m\u001b[0m\u001b[0m\n\u001b[1;32m   8197\u001b[0m             \u001b[0mright\u001b[0m\u001b[0;34m,\u001b[0m\u001b[0;34m\u001b[0m\u001b[0;34m\u001b[0m\u001b[0m\n",
      "\u001b[0;32m~/Documents/lai/lai-sim/env/lib/python3.9/site-packages/pandas/core/reshape/merge.py\u001b[0m in \u001b[0;36mmerge\u001b[0;34m(left, right, how, on, left_on, right_on, left_index, right_index, sort, suffixes, copy, indicator, validate)\u001b[0m\n\u001b[1;32m     72\u001b[0m     \u001b[0mvalidate\u001b[0m\u001b[0;34m=\u001b[0m\u001b[0;32mNone\u001b[0m\u001b[0;34m,\u001b[0m\u001b[0;34m\u001b[0m\u001b[0;34m\u001b[0m\u001b[0m\n\u001b[1;32m     73\u001b[0m ) -> \"DataFrame\":\n\u001b[0;32m---> 74\u001b[0;31m     op = _MergeOperation(\n\u001b[0m\u001b[1;32m     75\u001b[0m         \u001b[0mleft\u001b[0m\u001b[0;34m,\u001b[0m\u001b[0;34m\u001b[0m\u001b[0;34m\u001b[0m\u001b[0m\n\u001b[1;32m     76\u001b[0m         \u001b[0mright\u001b[0m\u001b[0;34m,\u001b[0m\u001b[0;34m\u001b[0m\u001b[0;34m\u001b[0m\u001b[0m\n",
      "\u001b[0;32m~/Documents/lai/lai-sim/env/lib/python3.9/site-packages/pandas/core/reshape/merge.py\u001b[0m in \u001b[0;36m__init__\u001b[0;34m(self, left, right, how, on, left_on, right_on, axis, left_index, right_index, sort, suffixes, copy, indicator, validate)\u001b[0m\n\u001b[1;32m    666\u001b[0m             \u001b[0mself\u001b[0m\u001b[0;34m.\u001b[0m\u001b[0mright_join_keys\u001b[0m\u001b[0;34m,\u001b[0m\u001b[0;34m\u001b[0m\u001b[0;34m\u001b[0m\u001b[0m\n\u001b[1;32m    667\u001b[0m             \u001b[0mself\u001b[0m\u001b[0;34m.\u001b[0m\u001b[0mjoin_names\u001b[0m\u001b[0;34m,\u001b[0m\u001b[0;34m\u001b[0m\u001b[0;34m\u001b[0m\u001b[0m\n\u001b[0;32m--> 668\u001b[0;31m         ) = self._get_merge_keys()\n\u001b[0m\u001b[1;32m    669\u001b[0m \u001b[0;34m\u001b[0m\u001b[0m\n\u001b[1;32m    670\u001b[0m         \u001b[0;31m# validate the merge keys dtypes. We may need to coerce\u001b[0m\u001b[0;34m\u001b[0m\u001b[0;34m\u001b[0m\u001b[0;34m\u001b[0m\u001b[0m\n",
      "\u001b[0;32m~/Documents/lai/lai-sim/env/lib/python3.9/site-packages/pandas/core/reshape/merge.py\u001b[0m in \u001b[0;36m_get_merge_keys\u001b[0;34m(self)\u001b[0m\n\u001b[1;32m   1031\u001b[0m                     \u001b[0;32mif\u001b[0m \u001b[0;32mnot\u001b[0m \u001b[0mis_rkey\u001b[0m\u001b[0;34m(\u001b[0m\u001b[0mrk\u001b[0m\u001b[0;34m)\u001b[0m\u001b[0;34m:\u001b[0m\u001b[0;34m\u001b[0m\u001b[0;34m\u001b[0m\u001b[0m\n\u001b[1;32m   1032\u001b[0m                         \u001b[0;32mif\u001b[0m \u001b[0mrk\u001b[0m \u001b[0;32mis\u001b[0m \u001b[0;32mnot\u001b[0m \u001b[0;32mNone\u001b[0m\u001b[0;34m:\u001b[0m\u001b[0;34m\u001b[0m\u001b[0;34m\u001b[0m\u001b[0m\n\u001b[0;32m-> 1033\u001b[0;31m                             \u001b[0mright_keys\u001b[0m\u001b[0;34m.\u001b[0m\u001b[0mappend\u001b[0m\u001b[0;34m(\u001b[0m\u001b[0mright\u001b[0m\u001b[0;34m.\u001b[0m\u001b[0m_get_label_or_level_values\u001b[0m\u001b[0;34m(\u001b[0m\u001b[0mrk\u001b[0m\u001b[0;34m)\u001b[0m\u001b[0;34m)\u001b[0m\u001b[0;34m\u001b[0m\u001b[0;34m\u001b[0m\u001b[0m\n\u001b[0m\u001b[1;32m   1034\u001b[0m                         \u001b[0;32melse\u001b[0m\u001b[0;34m:\u001b[0m\u001b[0;34m\u001b[0m\u001b[0;34m\u001b[0m\u001b[0m\n\u001b[1;32m   1035\u001b[0m                             \u001b[0;31m# work-around for merge_asof(right_index=True)\u001b[0m\u001b[0;34m\u001b[0m\u001b[0;34m\u001b[0m\u001b[0;34m\u001b[0m\u001b[0m\n",
      "\u001b[0;32m~/Documents/lai/lai-sim/env/lib/python3.9/site-packages/pandas/core/generic.py\u001b[0m in \u001b[0;36m_get_label_or_level_values\u001b[0;34m(self, key, axis)\u001b[0m\n\u001b[1;32m   1677\u001b[0m \u001b[0;34m\u001b[0m\u001b[0m\n\u001b[1;32m   1678\u001b[0m         \u001b[0;32mif\u001b[0m \u001b[0mself\u001b[0m\u001b[0;34m.\u001b[0m\u001b[0m_is_label_reference\u001b[0m\u001b[0;34m(\u001b[0m\u001b[0mkey\u001b[0m\u001b[0;34m,\u001b[0m \u001b[0maxis\u001b[0m\u001b[0;34m=\u001b[0m\u001b[0maxis\u001b[0m\u001b[0;34m)\u001b[0m\u001b[0;34m:\u001b[0m\u001b[0;34m\u001b[0m\u001b[0;34m\u001b[0m\u001b[0m\n\u001b[0;32m-> 1679\u001b[0;31m             \u001b[0mself\u001b[0m\u001b[0;34m.\u001b[0m\u001b[0m_check_label_or_level_ambiguity\u001b[0m\u001b[0;34m(\u001b[0m\u001b[0mkey\u001b[0m\u001b[0;34m,\u001b[0m \u001b[0maxis\u001b[0m\u001b[0;34m=\u001b[0m\u001b[0maxis\u001b[0m\u001b[0;34m)\u001b[0m\u001b[0;34m\u001b[0m\u001b[0;34m\u001b[0m\u001b[0m\n\u001b[0m\u001b[1;32m   1680\u001b[0m             \u001b[0mvalues\u001b[0m \u001b[0;34m=\u001b[0m \u001b[0mself\u001b[0m\u001b[0;34m.\u001b[0m\u001b[0mxs\u001b[0m\u001b[0;34m(\u001b[0m\u001b[0mkey\u001b[0m\u001b[0;34m,\u001b[0m \u001b[0maxis\u001b[0m\u001b[0;34m=\u001b[0m\u001b[0mother_axes\u001b[0m\u001b[0;34m[\u001b[0m\u001b[0;36m0\u001b[0m\u001b[0;34m]\u001b[0m\u001b[0;34m)\u001b[0m\u001b[0;34m.\u001b[0m\u001b[0m_values\u001b[0m\u001b[0;34m\u001b[0m\u001b[0;34m\u001b[0m\u001b[0m\n\u001b[1;32m   1681\u001b[0m         \u001b[0;32melif\u001b[0m \u001b[0mself\u001b[0m\u001b[0;34m.\u001b[0m\u001b[0m_is_level_reference\u001b[0m\u001b[0;34m(\u001b[0m\u001b[0mkey\u001b[0m\u001b[0;34m,\u001b[0m \u001b[0maxis\u001b[0m\u001b[0;34m=\u001b[0m\u001b[0maxis\u001b[0m\u001b[0;34m)\u001b[0m\u001b[0;34m:\u001b[0m\u001b[0;34m\u001b[0m\u001b[0;34m\u001b[0m\u001b[0m\n",
      "\u001b[0;32m~/Documents/lai/lai-sim/env/lib/python3.9/site-packages/pandas/core/generic.py\u001b[0m in \u001b[0;36m_check_label_or_level_ambiguity\u001b[0;34m(self, key, axis)\u001b[0m\n\u001b[1;32m   1636\u001b[0m                 \u001b[0;34mf\"{label_article} {label_type} label, which is ambiguous.\"\u001b[0m\u001b[0;34m\u001b[0m\u001b[0;34m\u001b[0m\u001b[0m\n\u001b[1;32m   1637\u001b[0m             )\n\u001b[0;32m-> 1638\u001b[0;31m             \u001b[0;32mraise\u001b[0m \u001b[0mValueError\u001b[0m\u001b[0;34m(\u001b[0m\u001b[0mmsg\u001b[0m\u001b[0;34m)\u001b[0m\u001b[0;34m\u001b[0m\u001b[0;34m\u001b[0m\u001b[0m\n\u001b[0m\u001b[1;32m   1639\u001b[0m \u001b[0;34m\u001b[0m\u001b[0m\n\u001b[1;32m   1640\u001b[0m     \u001b[0;34m@\u001b[0m\u001b[0mfinal\u001b[0m\u001b[0;34m\u001b[0m\u001b[0;34m\u001b[0m\u001b[0m\n",
      "\u001b[0;31mValueError\u001b[0m: 'sim_name' is both an index level and a column label, which is ambiguous."
     ]
    }
   ],
   "source": [
    "\t.set_index(\"sim_name\", drop=False)\n",
    "\t.sort_index()\n",
    ")\n",
    "\n",
    "# this file has one line per analysis run\n",
    "# each line should reference a simulation\n",
    "# specifies the sampling and filtering\n",
    "# may also specify a limited genomic span?? (probably not worth it)\n",
    "# we will have to see how best to specify the LAI parameters\n",
    "\n",
    "\t.set_index(\"anal_name\", drop=False)\n",
    "\t.sort_index()\n",
    ")"
   ]
  },
  {
   "cell_type": "code",
   "execution_count": null,
   "id": "4ba3fa2c",
   "metadata": {},
   "outputs": [],
   "source": []
  }
 ],
 "metadata": {
  "kernelspec": {
   "display_name": "Python 3",
   "language": "python",
   "name": "python3"
  },
  "language_info": {
   "codemirror_mode": {
    "name": "ipython",
    "version": 3
   },
   "file_extension": ".py",
   "mimetype": "text/x-python",
   "name": "python",
   "nbconvert_exporter": "python",
   "pygments_lexer": "ipython3",
   "version": "3.9.2"
  }
 },
 "nbformat": 4,
 "nbformat_minor": 5
}
