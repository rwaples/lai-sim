{
 "cells": [
  {
   "cell_type": "code",
   "execution_count": 156,
   "id": "1fe5f7c3",
   "metadata": {},
   "outputs": [],
   "source": [
    "import stdpopsim\n",
    "import msprime\n",
    "import tskit\n",
    "import os\n",
    "import numpy as np\n",
    "\n",
    "from contextlib import redirect_stdout"
   ]
  },
  {
   "cell_type": "code",
   "execution_count": 157,
   "id": "f5410f15",
   "metadata": {},
   "outputs": [
    {
     "data": {
      "text/plain": [
       "'0.1.2'"
      ]
     },
     "execution_count": 157,
     "metadata": {},
     "output_type": "execute_result"
    }
   ],
   "source": [
    "stdpopsim.__version__"
   ]
  },
  {
   "cell_type": "code",
   "execution_count": 158,
   "id": "37035c0c",
   "metadata": {},
   "outputs": [],
   "source": [
    "species = stdpopsim.get_species(\"HomSap\")\n",
    "chromosome = \"chr22\"\n",
    "WORK_DIR = '/home/kele/Documents/lai/test/test_2pop'\n",
    "npop = 3 # 2xref 1xadmixed \n",
    "mut_rate = 1.44e-8\n",
    "remember_gen = 20\n",
    "length_multiplier=1"
   ]
  },
  {
   "cell_type": "code",
   "execution_count": 159,
   "id": "c05685e1",
   "metadata": {},
   "outputs": [
    {
     "name": "stdout",
     "output_type": "stream",
     "text": [
      "mkdir: cannot create directory ‘/home/kele/Documents/lai/test/test_2pop’: File exists\r\n"
     ]
    }
   ],
   "source": [
    "!mkdir {WORK_DIR}\n",
    "\n",
    "SLiM_script_path = os.path.join(WORK_DIR, 'run.slim')\n",
    "SLiM_ts_path = os.path.join(WORK_DIR, 'from_slim.trees')"
   ]
  },
  {
   "cell_type": "code",
   "execution_count": 172,
   "id": "29b46688",
   "metadata": {},
   "outputs": [],
   "source": [
    "# demographic parameter for this model\n",
    "Ne = 5000 # constant for all pops \n",
    "T_split = 300 # the two source populations split this many generations ago \n",
    "T_admix = 12 # the pulse admixture event occured this many generations ago \n",
    "F_admix = 0.3 # The fraction of the admixed population fom sourceA\n",
    "\n",
    "assert (T_admix + 5) < T_split  \n",
    "assert 0<F_admix<1\n",
    "\n",
    "\n",
    "populations = [\n",
    "    stdpopsim.Population(id=\"sourceA\", \n",
    "                         description=\"sourceA\", \n",
    "                         sampling_time = 0\n",
    "    ),\n",
    "    stdpopsim.Population(id=\"sourceB\", \n",
    "                         description=\"sourceB\", \n",
    "                         sampling_time = 0\n",
    "    ),\n",
    "    stdpopsim.Population(id=\"admixed\", \n",
    "                         description=\"admixed\", \n",
    "                         sampling_time = 0\n",
    "    )\n",
    "]\n",
    "\n",
    "\n",
    "sourceA = msprime.PopulationConfiguration(\n",
    "    initial_size=Ne, \n",
    "    growth_rate=0, \n",
    "    metadata=populations[0].asdict()\n",
    ")\n",
    "\n",
    "sourceB = msprime.PopulationConfiguration(\n",
    "    initial_size=Ne, \n",
    "    growth_rate=0, \n",
    "    metadata=populations[1].asdict()\n",
    ")\n",
    "\n",
    "# Asian and CHB\n",
    "admixed = msprime.PopulationConfiguration(\n",
    "    initial_size=Ne, \n",
    "    growth_rate=0, \n",
    "    metadata=populations[2].asdict()\n",
    ")\n",
    "\n",
    "population_configurations = [sourceA, sourceB, admixed]\n",
    "\n",
    "migration_matrix = np.zeros((3,3))\n",
    "\n",
    "admixture_event = [\n",
    "    msprime.MassMigration(time=T_admix, source=2, destination=0, proportion=F_admix),\n",
    "    msprime.MassMigration(time=T_admix+1, source=2, destination=1, proportion=1.0)\n",
    "]\n",
    "\n",
    "split_event = [\n",
    "    msprime.MassMigration(time=T_split, source=1, destination=0, proportion=1.0)\n",
    "]\n",
    "\n",
    "\n",
    "demographic_events = admixture_event + split_event\n",
    "\n",
    "newmodel = stdpopsim.DemographicModel(\n",
    "        id=\"simple2pop\",\n",
    "        description=\"A simple two-population demographic model with pulse admixture.\",\n",
    "        long_description=\"None\",\n",
    "        populations=populations,\n",
    "        citations='None',\n",
    "        generation_time=1,\n",
    "        population_configurations=population_configurations,\n",
    "        migration_matrix=migration_matrix,\n",
    "        demographic_events=demographic_events,\n",
    "    )"
   ]
  },
  {
   "cell_type": "code",
   "execution_count": 173,
   "id": "a64b6fbf",
   "metadata": {},
   "outputs": [],
   "source": [
    "newmap = msprime.RecombinationMap(\n",
    "    positions=contig.recombination_map.get_positions(), \n",
    "    rates= [x*3 for x in contig.recombination_map.get_rates()]\n",
    ")\n",
    "\n",
    "newcontig = stdpopsim.Contig(recombination_map= newmap)"
   ]
  },
  {
   "cell_type": "code",
   "execution_count": 174,
   "id": "92231e4c",
   "metadata": {},
   "outputs": [],
   "source": [
    "engine = stdpopsim.get_engine(\"slim\")\n",
    "\n",
    "with open(SLiM_script_path, \"w\") as f:\n",
    "    with redirect_stdout(f):\n",
    "        _ = engine.simulate(\n",
    "            newmodel,\n",
    "            newcontig,\n",
    "            samples=newmodel.get_samples(*[x.initial_size for x in newmodel.population_configurations]),\n",
    "            slim_script=True,\n",
    "            verbosity=2\n",
    "        )"
   ]
  },
  {
   "cell_type": "code",
   "execution_count": 175,
   "id": "707921de",
   "metadata": {},
   "outputs": [],
   "source": [
    "# change the ts output location\n",
    "#!sed -i 's+\"/tmp/tmp.*.ts+\"admixture.browningmodel.ts+g' {SLiM_script_path}\n",
    "sed_cmd = f's+\"/tmp/tmp.*.ts+\"{SLiM_ts_path}+g' \n",
    "!sed -i {sed_cmd} {SLiM_script_path}\n",
    "\n",
    "# add gene conversion\n",
    "!sed -i 's+(recombination_rates, recombination_ends);+(recombination_rates, recombination_ends);\\n    initializeGeneConversion(0.6666666, 300, 1.0);+g' {SLiM_script_path}"
   ]
  },
  {
   "cell_type": "code",
   "execution_count": 176,
   "id": "6276d99f",
   "metadata": {},
   "outputs": [
    {
     "name": "stdout",
     "output_type": "stream",
     "text": [
      "    defineConstant(\"trees_file\", \"/home/kele/Documents/lai/test/test_2pop/from_slim.trees\");\n",
      "    initializeGeneConversion(0.6666666, 300, 1.0);\n"
     ]
    }
   ],
   "source": [
    "# check the edits \n",
    "!grep {SLiM_ts_path} {SLiM_script_path}\n",
    "!grep 'initializeGeneConversion' {SLiM_script_path}"
   ]
  },
  {
   "cell_type": "code",
   "execution_count": 177,
   "id": "dfc2f7e4",
   "metadata": {},
   "outputs": [
    {
     "data": {
      "text/plain": [
       "'s+// Admixture pulses\\\\.+sim.registerLateEvent(\"s000000\", \"{dbg(self.source); sim.treeSeqRememberIndividuals(sim.subpopulations.individuals);}\", G_end-20, G_end-20);\\\\n    // Admixture pulses\\\\.+g '"
      ]
     },
     "execution_count": 177,
     "metadata": {},
     "output_type": "execute_result"
    }
   ],
   "source": [
    "remember_cmd = r's+// Admixture pulses\\.+sim.registerLateEvent(\"s000000\", \"{dbg(self.source); sim.treeSeqRememberIndividuals(sim.subpopulations.individuals);}\", G_end-20, G_end-20);\\n    // Admixture pulses\\.+g '\n",
    "remember_cmd"
   ]
  },
  {
   "cell_type": "code",
   "execution_count": 178,
   "id": "01173160",
   "metadata": {},
   "outputs": [],
   "source": [
    "!sed -i '{remember_cmd}' {SLiM_script_path}"
   ]
  },
  {
   "cell_type": "code",
   "execution_count": 179,
   "id": "2e90b967",
   "metadata": {},
   "outputs": [
    {
     "name": "stdout",
     "output_type": "stream",
     "text": [
      "    sim.registerLateEvent(\"s000000\", \"{dbg(self.source); sim.treeSeqRememberIndividuals(sim.subpopulations.individuals);}\", G_end-20, G_end-20);\r\n"
     ]
    }
   ],
   "source": [
    "!grep 's000000' {SLiM_script_path}"
   ]
  },
  {
   "cell_type": "code",
   "execution_count": 180,
   "id": "a9d1bd20",
   "metadata": {},
   "outputs": [],
   "source": [
    "# run SLiM\n",
    "!slim {SLiM_script_path} > {SLiM_script_path}.log"
   ]
  },
  {
   "cell_type": "code",
   "execution_count": 183,
   "id": "4774dbe9",
   "metadata": {},
   "outputs": [
    {
     "data": {
      "text/html": [
       "\n",
       "            <div>\n",
       "              <style>\n",
       "                .tskit-table thead tr th {text-align: left;padding: 0.5em 0.5em;}\n",
       "                .tskit-table tbody tr td {padding: 0.5em 0.5em;}\n",
       "                .tskit-table tbody tr td:first-of-type {text-align: left;}\n",
       "                .tskit-details-label {vertical-align: top; padding-right:5px;}\n",
       "                .tskit-table-set {display: inline-flex;flex-wrap: wrap;margin: -12px 0 0 -12px;width: calc(100% + 12px);}\n",
       "                .tskit-table-set-table {margin: 12px 0 0 12px;}\n",
       "                details {display: inline-block;}\n",
       "                summary {cursor: pointer; outline: 0; display: list-item;}\n",
       "              </style>\n",
       "              <div class=\"tskit-table-set\">\n",
       "                <div class=\"tskit-table-set-table\">\n",
       "                  <table class=\"tskit-table\">\n",
       "                    <thead>\n",
       "                      <tr>\n",
       "                        <th style=\"padding:0;line-height:21px;\">\n",
       "                          <img style=\"height: 32px;display: inline-block;padding: 3px 5px 3px 0;\" src=\"https://raw.githubusercontent.com/tskit-dev/administrative/main/tskit_logo.svg\"/>\n",
       "                          <a target=\"_blank\" href=\"https://tskit.dev/tskit/docs/latest/python-api.html#the-treesequence-class\"> Tree Sequence </a>\n",
       "                        </th>\n",
       "                      </tr>\n",
       "                    </thead>\n",
       "                    <tbody>\n",
       "                      <tr><td>Trees</td><td>1667336</td></tr>\n",
       "                      <tr><td>Sequence Length</td><td>51304566.0</td></tr>\n",
       "                      <tr><td>Time Units</td><td>unknown</td></tr>\n",
       "                      <tr><td>Sample Nodes</td><td>50000</td></tr>\n",
       "                      <tr><td>Total Size</td><td>265.8 MiB</td></tr>\n",
       "                      <tr>\n",
       "                        <td>Metadata</td><td style=\"text-align: left;\">\n",
       "                <div>\n",
       "                  <span class=\"tskit-details-label\"></span>\n",
       "                  <details open>\n",
       "                    <summary>dict</summary>\n",
       "                    \n",
       "                <div>\n",
       "                  <span class=\"tskit-details-label\">SLiM:</span>\n",
       "                  <details >\n",
       "                    <summary>dict</summary>\n",
       "                    file_version: 0.6<br/>generation: 50301<br/>model_type: WF<br/>nucleotide_based: False<br/>separate_sexes: False<br/>spatial_dimensionality: <br/>spatial_periodicity: <br/>stage: late<br/>\n",
       "                  </details>\n",
       "                </div>\n",
       "                <br/>\n",
       "                  </details>\n",
       "                </div>\n",
       "                </td></tr>\n",
       "                    </tbody>\n",
       "                  </table>\n",
       "                </div>\n",
       "                <div class=\"tskit-table-set-table\">\n",
       "                  <table class=\"tskit-table\">\n",
       "                    <thead>\n",
       "                      <tr>\n",
       "                        <th style=\"line-height:21px;\">Table</th>\n",
       "                        <th>Rows</th>\n",
       "                        <th>Size</th>\n",
       "                        <th>Has Metadata</th>\n",
       "                      </tr>\n",
       "                    </thead>\n",
       "                    <tbody>\n",
       "                    \n",
       "                  <tr>\n",
       "                    <td>Edges</td>\n",
       "                      <td>5988243</td>\n",
       "                      <td>182.7 MiB</td>\n",
       "                      <td style=\"text-align: center;\">\n",
       "                        \n",
       "                      </td>\n",
       "                    </tr>\n",
       "                \n",
       "                  <tr>\n",
       "                    <td>Individuals</td>\n",
       "                      <td>25000</td>\n",
       "                      <td>1.8 MiB</td>\n",
       "                      <td style=\"text-align: center;\">\n",
       "                        ✅\n",
       "                      </td>\n",
       "                    </tr>\n",
       "                \n",
       "                  <tr>\n",
       "                    <td>Migrations</td>\n",
       "                      <td>0</td>\n",
       "                      <td>8 Bytes</td>\n",
       "                      <td style=\"text-align: center;\">\n",
       "                        \n",
       "                      </td>\n",
       "                    </tr>\n",
       "                \n",
       "                  <tr>\n",
       "                    <td>Mutations</td>\n",
       "                      <td>363214</td>\n",
       "                      <td>12.8 MiB</td>\n",
       "                      <td style=\"text-align: center;\">\n",
       "                        \n",
       "                      </td>\n",
       "                    </tr>\n",
       "                \n",
       "                  <tr>\n",
       "                    <td>Nodes</td>\n",
       "                      <td>388364</td>\n",
       "                      <td>14.1 MiB</td>\n",
       "                      <td style=\"text-align: center;\">\n",
       "                        ✅\n",
       "                      </td>\n",
       "                    </tr>\n",
       "                \n",
       "                  <tr>\n",
       "                    <td>Populations</td>\n",
       "                      <td>3</td>\n",
       "                      <td>3.0 KiB</td>\n",
       "                      <td style=\"text-align: center;\">\n",
       "                        ✅\n",
       "                      </td>\n",
       "                    </tr>\n",
       "                \n",
       "                  <tr>\n",
       "                    <td>Provenances</td>\n",
       "                      <td>2</td>\n",
       "                      <td>14.2 KiB</td>\n",
       "                      <td style=\"text-align: center;\">\n",
       "                        \n",
       "                      </td>\n",
       "                    </tr>\n",
       "                \n",
       "                  <tr>\n",
       "                    <td>Sites</td>\n",
       "                      <td>363214</td>\n",
       "                      <td>8.7 MiB</td>\n",
       "                      <td style=\"text-align: center;\">\n",
       "                        \n",
       "                      </td>\n",
       "                    </tr>\n",
       "                \n",
       "                    </tbody>\n",
       "                  </table>\n",
       "                </div>\n",
       "              </div>\n",
       "            </div>\n",
       "            "
      ],
      "text/plain": [
       "<tskit.trees.TreeSequence at 0x7f7ecab0ae80>"
      ]
     },
     "execution_count": 183,
     "metadata": {},
     "output_type": "execute_result"
    }
   ],
   "source": [
    "ts = tskit.load(SLiM_ts_path)\n",
    "ts = msprime.mutate(ts, rate=mut_rate)\n",
    "ts"
   ]
  },
  {
   "cell_type": "code",
   "execution_count": 184,
   "id": "f2aad7fd",
   "metadata": {},
   "outputs": [
    {
     "data": {
      "text/plain": [
       "array(0.01432271)"
      ]
     },
     "execution_count": 184,
     "metadata": {},
     "output_type": "execute_result"
    }
   ],
   "source": [
    "ts.Fst(sample_sets=[list(ts.samples(0)),list(ts.samples(1))])"
   ]
  },
  {
   "cell_type": "code",
   "execution_count": null,
   "id": "8e23bbdf",
   "metadata": {},
   "outputs": [],
   "source": []
  },
  {
   "cell_type": "code",
   "execution_count": 122,
   "id": "5998b3ea",
   "metadata": {},
   "outputs": [
    {
     "data": {
      "text/html": [
       "\n",
       "            <div>\n",
       "              <style>\n",
       "                .tskit-table thead tr th {text-align: left;padding: 0.5em 0.5em;}\n",
       "                .tskit-table tbody tr td {padding: 0.5em 0.5em;}\n",
       "                .tskit-table tbody tr td:first-of-type {text-align: left;}\n",
       "                .tskit-details-label {vertical-align: top; padding-right:5px;}\n",
       "                .tskit-table-set {display: inline-flex;flex-wrap: wrap;margin: -12px 0 0 -12px;width: calc(100% + 12px);}\n",
       "                .tskit-table-set-table {margin: 12px 0 0 12px;}\n",
       "                details {display: inline-block;}\n",
       "                summary {cursor: pointer; outline: 0; display: list-item;}\n",
       "              </style>\n",
       "              <div class=\"tskit-table-set\">\n",
       "                <div class=\"tskit-table-set-table\">\n",
       "                  <table class=\"tskit-table\">\n",
       "                    <thead>\n",
       "                      <tr>\n",
       "                        <th style=\"padding:0;line-height:21px;\">\n",
       "                          <img style=\"height: 32px;display: inline-block;padding: 3px 5px 3px 0;\" src=\"https://raw.githubusercontent.com/tskit-dev/administrative/main/tskit_logo.svg\"/>\n",
       "                          <a target=\"_blank\" href=\"https://tskit.dev/tskit/docs/latest/python-api.html#the-treesequence-class\"> Tree Sequence </a>\n",
       "                        </th>\n",
       "                      </tr>\n",
       "                    </thead>\n",
       "                    <tbody>\n",
       "                      <tr><td>Trees</td><td>41564</td></tr>\n",
       "                      <tr><td>Sequence Length</td><td>51304566.0</td></tr>\n",
       "                      <tr><td>Time Units</td><td>generations</td></tr>\n",
       "                      <tr><td>Sample Nodes</td><td>3000</td></tr>\n",
       "                      <tr><td>Total Size</td><td>9.5 MiB</td></tr>\n",
       "                      <tr>\n",
       "                        <td>Metadata</td><td style=\"text-align: left;\">No Metadata</td></tr>\n",
       "                    </tbody>\n",
       "                  </table>\n",
       "                </div>\n",
       "                <div class=\"tskit-table-set-table\">\n",
       "                  <table class=\"tskit-table\">\n",
       "                    <thead>\n",
       "                      <tr>\n",
       "                        <th style=\"line-height:21px;\">Table</th>\n",
       "                        <th>Rows</th>\n",
       "                        <th>Size</th>\n",
       "                        <th>Has Metadata</th>\n",
       "                      </tr>\n",
       "                    </thead>\n",
       "                    <tbody>\n",
       "                    \n",
       "                  <tr>\n",
       "                    <td>Edges</td>\n",
       "                      <td>166044</td>\n",
       "                      <td>5.1 MiB</td>\n",
       "                      <td style=\"text-align: center;\">\n",
       "                        \n",
       "                      </td>\n",
       "                    </tr>\n",
       "                \n",
       "                  <tr>\n",
       "                    <td>Individuals</td>\n",
       "                      <td>0</td>\n",
       "                      <td>24 Bytes</td>\n",
       "                      <td style=\"text-align: center;\">\n",
       "                        \n",
       "                      </td>\n",
       "                    </tr>\n",
       "                \n",
       "                  <tr>\n",
       "                    <td>Migrations</td>\n",
       "                      <td>0</td>\n",
       "                      <td>8 Bytes</td>\n",
       "                      <td style=\"text-align: center;\">\n",
       "                        \n",
       "                      </td>\n",
       "                    </tr>\n",
       "                \n",
       "                  <tr>\n",
       "                    <td>Mutations</td>\n",
       "                      <td>39003</td>\n",
       "                      <td>1.4 MiB</td>\n",
       "                      <td style=\"text-align: center;\">\n",
       "                        \n",
       "                      </td>\n",
       "                    </tr>\n",
       "                \n",
       "                  <tr>\n",
       "                    <td>Nodes</td>\n",
       "                      <td>32762</td>\n",
       "                      <td>895.8 KiB</td>\n",
       "                      <td style=\"text-align: center;\">\n",
       "                        \n",
       "                      </td>\n",
       "                    </tr>\n",
       "                \n",
       "                  <tr>\n",
       "                    <td>Populations</td>\n",
       "                      <td>3</td>\n",
       "                      <td>143 Bytes</td>\n",
       "                      <td style=\"text-align: center;\">\n",
       "                        ✅\n",
       "                      </td>\n",
       "                    </tr>\n",
       "                \n",
       "                  <tr>\n",
       "                    <td>Provenances</td>\n",
       "                      <td>1</td>\n",
       "                      <td>25.6 KiB</td>\n",
       "                      <td style=\"text-align: center;\">\n",
       "                        \n",
       "                      </td>\n",
       "                    </tr>\n",
       "                \n",
       "                  <tr>\n",
       "                    <td>Sites</td>\n",
       "                      <td>39003</td>\n",
       "                      <td>952.2 KiB</td>\n",
       "                      <td style=\"text-align: center;\">\n",
       "                        \n",
       "                      </td>\n",
       "                    </tr>\n",
       "                \n",
       "                    </tbody>\n",
       "                  </table>\n",
       "                </div>\n",
       "              </div>\n",
       "            </div>\n",
       "            "
      ],
      "text/plain": [
       "<tskit.trees.TreeSequence at 0x7f7ecb825430>"
      ]
     },
     "execution_count": 122,
     "metadata": {},
     "output_type": "execute_result"
    }
   ],
   "source": [
    "engine = stdpopsim.get_engine(id='msprime')\n",
    "ts = engine.simulate(\n",
    "    newmodel,\n",
    "    contig,\n",
    "    samples = newmodel.get_samples(*[x.initial_size for x in newmodel.population_configurations]),\n",
    "    verbosity=2\n",
    ")\n",
    "ts"
   ]
  },
  {
   "cell_type": "code",
   "execution_count": 91,
   "id": "b6034842",
   "metadata": {},
   "outputs": [
    {
     "data": {
      "text/plain": [
       "array(0.05393109)"
      ]
     },
     "execution_count": 91,
     "metadata": {},
     "output_type": "execute_result"
    }
   ],
   "source": [
    "ts.Fst(sample_sets=[list(ts.samples(0)),list(ts.samples(1))])"
   ]
  },
  {
   "cell_type": "code",
   "execution_count": 92,
   "id": "bd90b603",
   "metadata": {},
   "outputs": [],
   "source": [
    "newmap = msprime.RecombinationMap(\n",
    "    positions=contig.recombination_map.get_positions(), \n",
    "    rates= [x*3 for x in contig.recombination_map.get_rates()]\n",
    ")\n",
    "\n",
    "newcontig = stdpopsim.Contig(recombination_map = newmap)"
   ]
  },
  {
   "cell_type": "code",
   "execution_count": 97,
   "id": "e8f5b114",
   "metadata": {},
   "outputs": [
    {
     "name": "stderr",
     "output_type": "stream",
     "text": [
      "/home/kele/Documents/lai/lai-sim/env2/lib/python3.9/site-packages/pyslim/slim_tree_sequence.py:1016: UserWarning: This is a version 0.6 SLiM tree sequence. When you write this out, it will be converted to version 0.7.\n",
      "  warnings.warn(\"This is a version {} SLiM tree sequence.\".format(file_version) +\n",
      "/home/kele/Documents/lai/lai-sim/env2/lib/python3.9/site-packages/pyslim/slim_tree_sequence.py:30: FutureWarning: The SlimTreeSequence class is being phased out, as most important functionality is provided by tskit. Please see the `documentation <https://tskit.dev/pyslim/latest/previous_versions.html>`_. Please access ts.metadata['SLiM']['generation'] instead.\n",
      "  warnings.warn(\n",
      "/home/kele/Documents/lai/lai-sim/env2/lib/python3.9/site-packages/pyslim/slim_tree_sequence.py:30: FutureWarning: The SlimTreeSequence class is being phased out, as most important functionality is provided by tskit. Please see the `documentation <https://tskit.dev/pyslim/latest/previous_versions.html>`_. Please use pyslim.recapitate( ) instead.\n",
      "  warnings.warn(\n"
     ]
    }
   ],
   "source": [
    "engine = stdpopsim.get_engine(\"slim\")\n",
    "ts = engine.simulate(\n",
    "            newmodel,\n",
    "            newcontig,\n",
    "            samples = samples,\n",
    "            verbosity=2\n",
    "        )\n",
    "\n",
    "ts = msprime.mutate(ts, rate=mut_rate)"
   ]
  },
  {
   "cell_type": "code",
   "execution_count": 99,
   "id": "dd56ef6f",
   "metadata": {},
   "outputs": [
    {
     "data": {
      "text/html": [
       "\n",
       "            <div>\n",
       "              <style>\n",
       "                .tskit-table thead tr th {text-align: left;padding: 0.5em 0.5em;}\n",
       "                .tskit-table tbody tr td {padding: 0.5em 0.5em;}\n",
       "                .tskit-table tbody tr td:first-of-type {text-align: left;}\n",
       "                .tskit-details-label {vertical-align: top; padding-right:5px;}\n",
       "                .tskit-table-set {display: inline-flex;flex-wrap: wrap;margin: -12px 0 0 -12px;width: calc(100% + 12px);}\n",
       "                .tskit-table-set-table {margin: 12px 0 0 12px;}\n",
       "                details {display: inline-block;}\n",
       "                summary {cursor: pointer; outline: 0; display: list-item;}\n",
       "              </style>\n",
       "              <div class=\"tskit-table-set\">\n",
       "                <div class=\"tskit-table-set-table\">\n",
       "                  <table class=\"tskit-table\">\n",
       "                    <thead>\n",
       "                      <tr>\n",
       "                        <th style=\"padding:0;line-height:21px;\">\n",
       "                          <img style=\"height: 32px;display: inline-block;padding: 3px 5px 3px 0;\" src=\"https://raw.githubusercontent.com/tskit-dev/administrative/main/tskit_logo.svg\"/>\n",
       "                          <a target=\"_blank\" href=\"https://tskit.dev/tskit/docs/latest/python-api.html#the-treesequence-class\"> Tree Sequence </a>\n",
       "                        </th>\n",
       "                      </tr>\n",
       "                    </thead>\n",
       "                    <tbody>\n",
       "                      <tr><td>Trees</td><td>31144</td></tr>\n",
       "                      <tr><td>Sequence Length</td><td>51304566.0</td></tr>\n",
       "                      <tr><td>Time Units</td><td>unknown</td></tr>\n",
       "                      <tr><td>Sample Nodes</td><td>20</td></tr>\n",
       "                      <tr><td>Total Size</td><td>5.4 MiB</td></tr>\n",
       "                      <tr>\n",
       "                        <td>Metadata</td><td style=\"text-align: left;\">\n",
       "                <div>\n",
       "                  <span class=\"tskit-details-label\"></span>\n",
       "                  <details open>\n",
       "                    <summary>dict</summary>\n",
       "                    \n",
       "                <div>\n",
       "                  <span class=\"tskit-details-label\">SLiM:</span>\n",
       "                  <details >\n",
       "                    <summary>dict</summary>\n",
       "                    file_version: 0.7<br/>generation: 10301<br/>model_type: WF<br/>nucleotide_based: False<br/>separate_sexes: False<br/>spatial_dimensionality: <br/>spatial_periodicity: <br/>stage: late<br/>\n",
       "                  </details>\n",
       "                </div>\n",
       "                <br/>\n",
       "                  </details>\n",
       "                </div>\n",
       "                </td></tr>\n",
       "                    </tbody>\n",
       "                  </table>\n",
       "                </div>\n",
       "                <div class=\"tskit-table-set-table\">\n",
       "                  <table class=\"tskit-table\">\n",
       "                    <thead>\n",
       "                      <tr>\n",
       "                        <th style=\"line-height:21px;\">Table</th>\n",
       "                        <th>Rows</th>\n",
       "                        <th>Size</th>\n",
       "                        <th>Has Metadata</th>\n",
       "                      </tr>\n",
       "                    </thead>\n",
       "                    <tbody>\n",
       "                    \n",
       "                  <tr>\n",
       "                    <td>Edges</td>\n",
       "                      <td>105449</td>\n",
       "                      <td>3.2 MiB</td>\n",
       "                      <td style=\"text-align: center;\">\n",
       "                        \n",
       "                      </td>\n",
       "                    </tr>\n",
       "                \n",
       "                  <tr>\n",
       "                    <td>Individuals</td>\n",
       "                      <td>10</td>\n",
       "                      <td>2.7 KiB</td>\n",
       "                      <td style=\"text-align: center;\">\n",
       "                        ✅\n",
       "                      </td>\n",
       "                    </tr>\n",
       "                \n",
       "                  <tr>\n",
       "                    <td>Migrations</td>\n",
       "                      <td>0</td>\n",
       "                      <td>8 Bytes</td>\n",
       "                      <td style=\"text-align: center;\">\n",
       "                        \n",
       "                      </td>\n",
       "                    </tr>\n",
       "                \n",
       "                  <tr>\n",
       "                    <td>Mutations</td>\n",
       "                      <td>11904</td>\n",
       "                      <td>431.3 KiB</td>\n",
       "                      <td style=\"text-align: center;\">\n",
       "                        \n",
       "                      </td>\n",
       "                    </tr>\n",
       "                \n",
       "                  <tr>\n",
       "                    <td>Nodes</td>\n",
       "                      <td>19086</td>\n",
       "                      <td>705.6 KiB</td>\n",
       "                      <td style=\"text-align: center;\">\n",
       "                        ✅\n",
       "                      </td>\n",
       "                    </tr>\n",
       "                \n",
       "                  <tr>\n",
       "                    <td>Populations</td>\n",
       "                      <td>3</td>\n",
       "                      <td>3.0 KiB</td>\n",
       "                      <td style=\"text-align: center;\">\n",
       "                        ✅\n",
       "                      </td>\n",
       "                    </tr>\n",
       "                \n",
       "                  <tr>\n",
       "                    <td>Provenances</td>\n",
       "                      <td>6</td>\n",
       "                      <td>17.3 KiB</td>\n",
       "                      <td style=\"text-align: center;\">\n",
       "                        \n",
       "                      </td>\n",
       "                    </tr>\n",
       "                \n",
       "                  <tr>\n",
       "                    <td>Sites</td>\n",
       "                      <td>11904</td>\n",
       "                      <td>290.6 KiB</td>\n",
       "                      <td style=\"text-align: center;\">\n",
       "                        \n",
       "                      </td>\n",
       "                    </tr>\n",
       "                \n",
       "                    </tbody>\n",
       "                  </table>\n",
       "                </div>\n",
       "              </div>\n",
       "            </div>\n",
       "            "
      ],
      "text/plain": [
       "<tskit.trees.TreeSequence at 0x7f7ecbce9070>"
      ]
     },
     "execution_count": 99,
     "metadata": {},
     "output_type": "execute_result"
    }
   ],
   "source": [
    "population_configurations"
   ]
  },
  {
   "cell_type": "code",
   "execution_count": 98,
   "id": "a2f9ad57",
   "metadata": {},
   "outputs": [
    {
     "data": {
      "text/plain": [
       "array(0.0682471)"
      ]
     },
     "execution_count": 98,
     "metadata": {},
     "output_type": "execute_result"
    }
   ],
   "source": [
    "ts.Fst(sample_sets=[list(ts.samples(0)),list(ts.samples(1))])"
   ]
  },
  {
   "cell_type": "code",
   "execution_count": null,
   "id": "df35bea4",
   "metadata": {},
   "outputs": [],
   "source": []
  },
  {
   "cell_type": "code",
   "execution_count": null,
   "id": "5481a799",
   "metadata": {},
   "outputs": [],
   "source": []
  },
  {
   "cell_type": "markdown",
   "id": "bec723fa",
   "metadata": {},
   "source": [
    "# This uses the Isolation with Migration generic model"
   ]
  },
  {
   "cell_type": "code",
   "execution_count": 28,
   "id": "ef05ee8f",
   "metadata": {},
   "outputs": [],
   "source": [
    "#NA (float) – The initial ancestral effective population size\n",
    "#N1 (float) – The effective population size of population 1\n",
    "#N2 (float) – The effective population size of population 2\n",
    "#T (float) – Time of split between populations 1 and 2 (in generations)\n",
    "#M12 (float) – Migration rate from population 1 to 2\n",
    "#M21 (float) – Migration rate from population 2 to 1\n",
    "NA = ancestral_Ne\n",
    "N1 = NA\n",
    "N2 = NA\n",
    "T = NA*.33\n",
    "M12 = 0\n",
    "M21 = 0\n",
    "model = stdpopsim.IsolationWithMigration(NA, N1, N2, T, M12, M21)\n",
    "samples = model.get_samples(10,10)\n",
    "contig = species.get_contig(chromosome, length_multiplier=length_multiplier)"
   ]
  },
  {
   "cell_type": "markdown",
   "id": "73882381",
   "metadata": {},
   "source": [
    "## simulate with msprime"
   ]
  },
  {
   "cell_type": "code",
   "execution_count": 29,
   "id": "686d4c1a",
   "metadata": {},
   "outputs": [
    {
     "data": {
      "text/html": [
       "\n",
       "            <div>\n",
       "              <style>\n",
       "                .tskit-table thead tr th {text-align: left;padding: 0.5em 0.5em;}\n",
       "                .tskit-table tbody tr td {padding: 0.5em 0.5em;}\n",
       "                .tskit-table tbody tr td:first-of-type {text-align: left;}\n",
       "                .tskit-details-label {vertical-align: top; padding-right:5px;}\n",
       "                .tskit-table-set {display: inline-flex;flex-wrap: wrap;margin: -12px 0 0 -12px;width: calc(100% + 12px);}\n",
       "                .tskit-table-set-table {margin: 12px 0 0 12px;}\n",
       "                details {display: inline-block;}\n",
       "                summary {cursor: pointer; outline: 0; display: list-item;}\n",
       "              </style>\n",
       "              <div class=\"tskit-table-set\">\n",
       "                <div class=\"tskit-table-set-table\">\n",
       "                  <table class=\"tskit-table\">\n",
       "                    <thead>\n",
       "                      <tr>\n",
       "                        <th style=\"padding:0;line-height:21px;\">\n",
       "                          <img style=\"height: 32px;display: inline-block;padding: 3px 5px 3px 0;\" src=\"https://raw.githubusercontent.com/tskit-dev/administrative/main/tskit_logo.svg\"/>\n",
       "                          <a target=\"_blank\" href=\"https://tskit.dev/tskit/docs/latest/python-api.html#the-treesequence-class\"> Tree Sequence </a>\n",
       "                        </th>\n",
       "                      </tr>\n",
       "                    </thead>\n",
       "                    <tbody>\n",
       "                      <tr><td>Trees</td><td>9989</td></tr>\n",
       "                      <tr><td>Sequence Length</td><td>51304566.0</td></tr>\n",
       "                      <tr><td>Time Units</td><td>generations</td></tr>\n",
       "                      <tr><td>Sample Nodes</td><td>20</td></tr>\n",
       "                      <tr><td>Total Size</td><td>2.1 MiB</td></tr>\n",
       "                      <tr>\n",
       "                        <td>Metadata</td><td style=\"text-align: left;\">No Metadata</td></tr>\n",
       "                    </tbody>\n",
       "                  </table>\n",
       "                </div>\n",
       "                <div class=\"tskit-table-set-table\">\n",
       "                  <table class=\"tskit-table\">\n",
       "                    <thead>\n",
       "                      <tr>\n",
       "                        <th style=\"line-height:21px;\">Table</th>\n",
       "                        <th>Rows</th>\n",
       "                        <th>Size</th>\n",
       "                        <th>Has Metadata</th>\n",
       "                      </tr>\n",
       "                    </thead>\n",
       "                    <tbody>\n",
       "                    \n",
       "                  <tr>\n",
       "                    <td>Edges</td>\n",
       "                      <td>33755</td>\n",
       "                      <td>1.0 MiB</td>\n",
       "                      <td style=\"text-align: center;\">\n",
       "                        \n",
       "                      </td>\n",
       "                    </tr>\n",
       "                \n",
       "                  <tr>\n",
       "                    <td>Individuals</td>\n",
       "                      <td>0</td>\n",
       "                      <td>24 Bytes</td>\n",
       "                      <td style=\"text-align: center;\">\n",
       "                        \n",
       "                      </td>\n",
       "                    </tr>\n",
       "                \n",
       "                  <tr>\n",
       "                    <td>Migrations</td>\n",
       "                      <td>0</td>\n",
       "                      <td>8 Bytes</td>\n",
       "                      <td style=\"text-align: center;\">\n",
       "                        \n",
       "                      </td>\n",
       "                    </tr>\n",
       "                \n",
       "                  <tr>\n",
       "                    <td>Mutations</td>\n",
       "                      <td>10690</td>\n",
       "                      <td>386.3 KiB</td>\n",
       "                      <td style=\"text-align: center;\">\n",
       "                        \n",
       "                      </td>\n",
       "                    </tr>\n",
       "                \n",
       "                  <tr>\n",
       "                    <td>Nodes</td>\n",
       "                      <td>6325</td>\n",
       "                      <td>173.0 KiB</td>\n",
       "                      <td style=\"text-align: center;\">\n",
       "                        \n",
       "                      </td>\n",
       "                    </tr>\n",
       "                \n",
       "                  <tr>\n",
       "                    <td>Populations</td>\n",
       "                      <td>3</td>\n",
       "                      <td>139 Bytes</td>\n",
       "                      <td style=\"text-align: center;\">\n",
       "                        ✅\n",
       "                      </td>\n",
       "                    </tr>\n",
       "                \n",
       "                  <tr>\n",
       "                    <td>Provenances</td>\n",
       "                      <td>1</td>\n",
       "                      <td>2.2 KiB</td>\n",
       "                      <td style=\"text-align: center;\">\n",
       "                        \n",
       "                      </td>\n",
       "                    </tr>\n",
       "                \n",
       "                  <tr>\n",
       "                    <td>Sites</td>\n",
       "                      <td>10690</td>\n",
       "                      <td>261.0 KiB</td>\n",
       "                      <td style=\"text-align: center;\">\n",
       "                        \n",
       "                      </td>\n",
       "                    </tr>\n",
       "                \n",
       "                    </tbody>\n",
       "                  </table>\n",
       "                </div>\n",
       "              </div>\n",
       "            </div>\n",
       "            "
      ],
      "text/plain": [
       "<tskit.trees.TreeSequence at 0x7f7f4523fa00>"
      ]
     },
     "execution_count": 29,
     "metadata": {},
     "output_type": "execute_result"
    }
   ],
   "source": [
    "engine = stdpopsim.get_engine(id='msprime')\n",
    "ts = engine.simulate(\n",
    "    model,\n",
    "    contig,\n",
    "    samples = samples,\n",
    "    verbosity=2\n",
    ")\n",
    "ts"
   ]
  },
  {
   "cell_type": "code",
   "execution_count": 30,
   "id": "4cb432f6",
   "metadata": {},
   "outputs": [
    {
     "data": {
      "text/plain": [
       "array(0.0878934)"
      ]
     },
     "execution_count": 30,
     "metadata": {},
     "output_type": "execute_result"
    }
   ],
   "source": [
    "ts.Fst(sample_sets=[list(ts.samples(0)),list(ts.samples(1))])"
   ]
  },
  {
   "cell_type": "markdown",
   "id": "c740b3d5",
   "metadata": {},
   "source": [
    "# Write with SLiM"
   ]
  },
  {
   "cell_type": "code",
   "execution_count": 87,
   "id": "5dbe1c51",
   "metadata": {},
   "outputs": [],
   "source": [
    "newmap = msprime.RecombinationMap(\n",
    "    positions=contig.recombination_map.get_positions(), \n",
    "    rates= [x*3 for x in contig.recombination_map.get_rates()]\n",
    ")\n",
    "\n",
    "newcontig = stdpopsim.Contig(recombination_map = newmap)"
   ]
  },
  {
   "cell_type": "code",
   "execution_count": 103,
   "id": "a44a1d96",
   "metadata": {},
   "outputs": [],
   "source": [
    "engine = stdpopsim.get_engine(\"slim\")\n",
    "\n",
    "with open(SLiM_script_path, \"w\") as f:\n",
    "    with redirect_stdout(f):\n",
    "        _ = engine.simulate(\n",
    "            #model,\n",
    "            newmodel,\n",
    "            newcontig,\n",
    "            samples = samples,\n",
    "            slim_script=True,\n",
    "            verbosity=2\n",
    "        )"
   ]
  },
  {
   "cell_type": "code",
   "execution_count": 33,
   "id": "c87b6d19",
   "metadata": {},
   "outputs": [],
   "source": [
    "# change the ts output location\n",
    "#!sed -i 's+\"/tmp/tmp.*.ts+\"admixture.browningmodel.ts+g' {SLiM_script_path}\n",
    "sed_cmd = f's+\"/tmp/tmp.*.ts+\"{SLiM_ts_path}+g' \n",
    "!sed -i {sed_cmd} {SLiM_script_path}\n",
    "\n",
    "# add gene conversion\n",
    "!sed -i 's+(recombination_rates, recombination_ends);+(recombination_rates, recombination_ends);\\n    initializeGeneConversion(0.6666666, 300, 1.0);+g' {SLiM_script_path}"
   ]
  },
  {
   "cell_type": "code",
   "execution_count": 34,
   "id": "9cb4f2b2",
   "metadata": {},
   "outputs": [
    {
     "name": "stdout",
     "output_type": "stream",
     "text": [
      "    defineConstant(\"trees_file\", \"/home/kele/Documents/lai/test/test_2pop/from_slim.trees\");\n",
      "    initializeGeneConversion(0.6666666, 300, 1.0);\n"
     ]
    }
   ],
   "source": [
    "# check the edits \n",
    "!grep {SLiM_ts_path} {SLiM_script_path}\n",
    "!grep 'initializeGeneConversion' {SLiM_script_path}"
   ]
  },
  {
   "cell_type": "code",
   "execution_count": 35,
   "id": "72379658",
   "metadata": {},
   "outputs": [
    {
     "data": {
      "text/plain": [
       "'s+// Admixture pulses\\\\.+sim.registerLateEvent(\"s000000\", \"{dbg(self.source); sim.treeSeqRememberIndividuals(sim.subpopulations.individuals);}\", G_end-20, G_end-20);\\\\n    // Admixture pulses\\\\.+g '"
      ]
     },
     "execution_count": 35,
     "metadata": {},
     "output_type": "execute_result"
    }
   ],
   "source": [
    "remember_cmd = r's+// Admixture pulses\\.+sim.registerLateEvent(\"s000000\", \"{dbg(self.source); sim.treeSeqRememberIndividuals(sim.subpopulations.individuals);}\", G_end-20, G_end-20);\\n    // Admixture pulses\\.+g '\n",
    "remember_cmd"
   ]
  },
  {
   "cell_type": "code",
   "execution_count": 36,
   "id": "227e5a9f",
   "metadata": {},
   "outputs": [],
   "source": [
    "!sed -i '{remember_cmd}' {SLiM_script_path}"
   ]
  },
  {
   "cell_type": "code",
   "execution_count": 37,
   "id": "6dd473ba",
   "metadata": {},
   "outputs": [
    {
     "name": "stdout",
     "output_type": "stream",
     "text": [
      "    sim.registerLateEvent(\"s000000\", \"{dbg(self.source); sim.treeSeqRememberIndividuals(sim.subpopulations.individuals);}\", G_end-20, G_end-20);\r\n"
     ]
    }
   ],
   "source": [
    "!grep 's000000' {SLiM_script_path}"
   ]
  },
  {
   "cell_type": "code",
   "execution_count": 38,
   "id": "43c1fbd8",
   "metadata": {},
   "outputs": [
    {
     "name": "stdout",
     "output_type": "stream",
     "text": [
      "SLiM version 3.6, built Mar 26 2021 14:42:53\r\n"
     ]
    }
   ],
   "source": [
    "# check slim version\n",
    "!slim --version"
   ]
  },
  {
   "cell_type": "code",
   "execution_count": 39,
   "id": "3fad9ede",
   "metadata": {},
   "outputs": [],
   "source": [
    "# run SLiM\n",
    "!slim {SLiM_script_path} > {SLiM_script_path}.log"
   ]
  },
  {
   "cell_type": "code",
   "execution_count": 40,
   "id": "45c73b57",
   "metadata": {},
   "outputs": [
    {
     "data": {
      "text/html": [
       "\n",
       "            <div>\n",
       "              <style>\n",
       "                .tskit-table thead tr th {text-align: left;padding: 0.5em 0.5em;}\n",
       "                .tskit-table tbody tr td {padding: 0.5em 0.5em;}\n",
       "                .tskit-table tbody tr td:first-of-type {text-align: left;}\n",
       "                .tskit-details-label {vertical-align: top; padding-right:5px;}\n",
       "                .tskit-table-set {display: inline-flex;flex-wrap: wrap;margin: -12px 0 0 -12px;width: calc(100% + 12px);}\n",
       "                .tskit-table-set-table {margin: 12px 0 0 12px;}\n",
       "                details {display: inline-block;}\n",
       "                summary {cursor: pointer; outline: 0; display: list-item;}\n",
       "              </style>\n",
       "              <div class=\"tskit-table-set\">\n",
       "                <div class=\"tskit-table-set-table\">\n",
       "                  <table class=\"tskit-table\">\n",
       "                    <thead>\n",
       "                      <tr>\n",
       "                        <th style=\"padding:0;line-height:21px;\">\n",
       "                          <img style=\"height: 32px;display: inline-block;padding: 3px 5px 3px 0;\" src=\"https://raw.githubusercontent.com/tskit-dev/administrative/main/tskit_logo.svg\"/>\n",
       "                          <a target=\"_blank\" href=\"https://tskit.dev/tskit/docs/latest/python-api.html#the-treesequence-class\"> Tree Sequence </a>\n",
       "                        </th>\n",
       "                      </tr>\n",
       "                    </thead>\n",
       "                    <tbody>\n",
       "                      <tr><td>Trees</td><td>400339</td></tr>\n",
       "                      <tr><td>Sequence Length</td><td>51304566.0</td></tr>\n",
       "                      <tr><td>Time Units</td><td>unknown</td></tr>\n",
       "                      <tr><td>Sample Nodes</td><td>12000</td></tr>\n",
       "                      <tr><td>Total Size</td><td>57.8 MiB</td></tr>\n",
       "                      <tr>\n",
       "                        <td>Metadata</td><td style=\"text-align: left;\">\n",
       "                <div>\n",
       "                  <span class=\"tskit-details-label\"></span>\n",
       "                  <details open>\n",
       "                    <summary>dict</summary>\n",
       "                    \n",
       "                <div>\n",
       "                  <span class=\"tskit-details-label\">SLiM:</span>\n",
       "                  <details >\n",
       "                    <summary>dict</summary>\n",
       "                    file_version: 0.6<br/>generation: 10331<br/>model_type: WF<br/>nucleotide_based: False<br/>separate_sexes: False<br/>spatial_dimensionality: <br/>spatial_periodicity: <br/>stage: late<br/>\n",
       "                  </details>\n",
       "                </div>\n",
       "                <br/>\n",
       "                  </details>\n",
       "                </div>\n",
       "                </td></tr>\n",
       "                    </tbody>\n",
       "                  </table>\n",
       "                </div>\n",
       "                <div class=\"tskit-table-set-table\">\n",
       "                  <table class=\"tskit-table\">\n",
       "                    <thead>\n",
       "                      <tr>\n",
       "                        <th style=\"line-height:21px;\">Table</th>\n",
       "                        <th>Rows</th>\n",
       "                        <th>Size</th>\n",
       "                        <th>Has Metadata</th>\n",
       "                      </tr>\n",
       "                    </thead>\n",
       "                    <tbody>\n",
       "                    \n",
       "                  <tr>\n",
       "                    <td>Edges</td>\n",
       "                      <td>1417921</td>\n",
       "                      <td>43.3 MiB</td>\n",
       "                      <td style=\"text-align: center;\">\n",
       "                        \n",
       "                      </td>\n",
       "                    </tr>\n",
       "                \n",
       "                  <tr>\n",
       "                    <td>Individuals</td>\n",
       "                      <td>6000</td>\n",
       "                      <td>446.8 KiB</td>\n",
       "                      <td style=\"text-align: center;\">\n",
       "                        ✅\n",
       "                      </td>\n",
       "                    </tr>\n",
       "                \n",
       "                  <tr>\n",
       "                    <td>Migrations</td>\n",
       "                      <td>0</td>\n",
       "                      <td>8 Bytes</td>\n",
       "                      <td style=\"text-align: center;\">\n",
       "                        \n",
       "                      </td>\n",
       "                    </tr>\n",
       "                \n",
       "                  <tr>\n",
       "                    <td>Mutations</td>\n",
       "                      <td>0</td>\n",
       "                      <td>1.2 KiB</td>\n",
       "                      <td style=\"text-align: center;\">\n",
       "                        \n",
       "                      </td>\n",
       "                    </tr>\n",
       "                \n",
       "                  <tr>\n",
       "                    <td>Nodes</td>\n",
       "                      <td>91094</td>\n",
       "                      <td>3.3 MiB</td>\n",
       "                      <td style=\"text-align: center;\">\n",
       "                        ✅\n",
       "                      </td>\n",
       "                    </tr>\n",
       "                \n",
       "                  <tr>\n",
       "                    <td>Populations</td>\n",
       "                      <td>3</td>\n",
       "                      <td>3.0 KiB</td>\n",
       "                      <td style=\"text-align: center;\">\n",
       "                        ✅\n",
       "                      </td>\n",
       "                    </tr>\n",
       "                \n",
       "                  <tr>\n",
       "                    <td>Provenances</td>\n",
       "                      <td>1</td>\n",
       "                      <td>13.3 KiB</td>\n",
       "                      <td style=\"text-align: center;\">\n",
       "                        \n",
       "                      </td>\n",
       "                    </tr>\n",
       "                \n",
       "                  <tr>\n",
       "                    <td>Sites</td>\n",
       "                      <td>0</td>\n",
       "                      <td>16 Bytes</td>\n",
       "                      <td style=\"text-align: center;\">\n",
       "                        \n",
       "                      </td>\n",
       "                    </tr>\n",
       "                \n",
       "                    </tbody>\n",
       "                  </table>\n",
       "                </div>\n",
       "              </div>\n",
       "            </div>\n",
       "            "
      ],
      "text/plain": [
       "<tskit.trees.TreeSequence at 0x7f7f454014c0>"
      ]
     },
     "execution_count": 40,
     "metadata": {},
     "output_type": "execute_result"
    }
   ],
   "source": [
    "ts = tskit.load(SLiM_ts_path)\n",
    "ts"
   ]
  },
  {
   "cell_type": "code",
   "execution_count": 41,
   "id": "23da8012",
   "metadata": {},
   "outputs": [],
   "source": [
    "recapmap = msprime.RecombinationMap(\n",
    "    positions=[0.0, ts.get_sequence_length()], \n",
    "    rates= contig.recombination_map.get_rates(), \n",
    "    num_loci = int(ts.get_sequence_length())\n",
    ")"
   ]
  },
  {
   "cell_type": "code",
   "execution_count": null,
   "id": "87fb7e52",
   "metadata": {},
   "outputs": [],
   "source": []
  }
 ],
 "metadata": {
  "kernelspec": {
   "display_name": "Python 3 (ipykernel)",
   "language": "python",
   "name": "python3"
  },
  "language_info": {
   "codemirror_mode": {
    "name": "ipython",
    "version": 3
   },
   "file_extension": ".py",
   "mimetype": "text/x-python",
   "name": "python",
   "nbconvert_exporter": "python",
   "pygments_lexer": "ipython3",
   "version": "3.9.9"
  }
 },
 "nbformat": 4,
 "nbformat_minor": 5
}
